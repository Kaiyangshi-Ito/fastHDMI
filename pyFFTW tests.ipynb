{
 "cells": [
  {
   "cell_type": "code",
   "execution_count": 8,
   "id": "c7b0923b",
   "metadata": {
    "ExecuteTime": {
     "end_time": "2023-11-15T18:40:16.726326Z",
     "start_time": "2023-11-15T18:40:16.720919Z"
    }
   },
   "outputs": [],
   "source": [
    "import numpy as np\n",
    "from scipy import fft\n",
    "import pyfftw\n",
    "pyfftw.interfaces.cache.enable() # turn on cache to make it run much faster on x86_64 machines, not sure about ARM "
   ]
  },
  {
   "cell_type": "code",
   "execution_count": 9,
   "id": "d73d86c2",
   "metadata": {
    "ExecuteTime": {
     "end_time": "2023-11-15T18:40:59.155663Z",
     "start_time": "2023-11-15T18:40:16.972022Z"
    }
   },
   "outputs": [
    {
     "name": "stdout",
     "output_type": "stream",
     "text": [
      "16.4 ms ± 134 µs per loop (mean ± std. dev. of 7 runs, 100 loops each)\n",
      "8.92 ms ± 21.8 µs per loop (mean ± std. dev. of 7 runs, 100 loops each)\n",
      "13.4 ms ± 89.5 µs per loop (mean ± std. dev. of 7 runs, 100 loops each)\n",
      "13.3 ms ± 46.3 µs per loop (mean ± std. dev. of 7 runs, 100 loops each)\n"
     ]
    }
   ],
   "source": [
    "A = np.random.rand(1000, 1000)\n",
    "%timeit np.fft.fft2(A) \n",
    "%timeit fft.fft2(A)\n",
    "%timeit pyfftw.interfaces.numpy_fft.fft2(A)\n",
    "%timeit pyfftw.interfaces.scipy_fft.fft2(A)"
   ]
  },
  {
   "cell_type": "code",
   "execution_count": null,
   "id": "e21e2b65",
   "metadata": {},
   "outputs": [],
   "source": []
  }
 ],
 "metadata": {
  "kernelspec": {
   "display_name": "Python 3 (ipykernel)",
   "language": "python",
   "name": "python3"
  },
  "language_info": {
   "codemirror_mode": {
    "name": "ipython",
    "version": 3
   },
   "file_extension": ".py",
   "mimetype": "text/x-python",
   "name": "python",
   "nbconvert_exporter": "python",
   "pygments_lexer": "ipython3",
   "version": "3.9.13"
  }
 },
 "nbformat": 4,
 "nbformat_minor": 5
}
