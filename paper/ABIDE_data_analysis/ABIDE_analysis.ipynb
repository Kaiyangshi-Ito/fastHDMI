{
 "cells": [
  {
   "cell_type": "code",
   "execution_count": 2,
   "id": "39eea284-aeec-427b-b3fc-2a35d72a5825",
   "metadata": {
    "ExecuteTime": {
     "end_time": "2023-01-16T17:58:58.714932Z",
     "start_time": "2023-01-16T17:58:57.454170Z"
    }
   },
   "outputs": [],
   "source": [
    "import numpy as np\n",
    "import pandas as pd\n",
    "from dask import dataframe as dd\n",
    "import matplotlib.pyplot as plt\n",
    "import fastHDMI as mi"
   ]
  },
  {
   "cell_type": "markdown",
   "id": "c74af34a",
   "metadata": {},
   "source": [
    "# Calculate MI for ABIDE data (besides sex and age as they will be included regardless)"
   ]
  },
  {
   "cell_type": "code",
   "execution_count": null,
   "id": "ffa723c1-2843-424d-8ee3-90eb39dc843e",
   "metadata": {
    "ExecuteTime": {
     "end_time": "2023-01-05T05:45:17.832538Z",
     "start_time": "2023-01-05T05:45:17.730041Z"
    }
   },
   "outputs": [],
   "source": [
    "csv_file = r\"/home/kyang/projects/def-cgreenwo/abide_data/abide_fs60_vout_fwhm0_lh_SubjectIDFormatted_N1050_nonzero_withSEX.csv\"\n",
    "abide = pd.read_csv(csv_file, encoding='unicode_escape', engine=\"c\")\n",
    "# abide = dd.read_csv(csv_file, sample=1250000)\n",
    "\n",
    "_abide_name = abide.columns.tolist()[1:]\n",
    "# _abide_name = list(abide.columns)[1:]\n",
    "\n",
    "# print(_abide_name)\n",
    "\n",
    "abide_name = [_abide_name[-1]] + _abide_name[1:-3]\n",
    "# so that the left first column is the outcome and the rest columns are areas\n",
    "\n",
    "mi_output = mi.binary_filter_csv_parallel(csv_file,\n",
    "                                          _usecols=abide_name,\n",
    "                                          csv_engine=\"c\",\n",
    "                                          sample=1250000)\n",
    "np.save(r\"/home/kyang/ABIDE_MI_output\", mi_output)\n",
    "\n",
    "pearson_output = mi.Pearson_filter_csv_parallel(csv_file,\n",
    "                                                _usecols=abide_name,\n",
    "                                                csv_engine=\"c\",\n",
    "                                                sample=1250000)\n",
    "np.save(r\"/home/kyang/ABIDE_Pearson_output\", pearson_output)"
   ]
  },
  {
   "cell_type": "markdown",
   "id": "46ea4ca1-abfd-4856-8f70-63658655173a",
   "metadata": {},
   "source": [
    "# Plots"
   ]
  },
  {
   "cell_type": "code",
   "execution_count": 4,
   "id": "eb054aa1-5485-4ea5-8f0b-5eefadf893ca",
   "metadata": {
    "ExecuteTime": {
     "end_time": "2023-01-16T17:59:09.280625Z",
     "start_time": "2023-01-16T17:59:08.823231Z"
    }
   },
   "outputs": [
    {
     "data": {
      "image/png": "[encoded data removed]",
      "text/plain": [
       "<Figure size 640x480 with 1 Axes>"
      ]
     },
     "metadata": {},
     "output_type": "display_data"
    }
   ],
   "source": [
    "abide_mi = np.load(r\"./ABIDE_MI_output.npy\")\n",
    "plt.hist(np.log(abide_mi), 500)\n",
    "plt.show()"
   ]
  },
  {
   "cell_type": "code",
   "execution_count": null,
   "id": "58f1a09a-45cf-46a3-be42-9f9394ee4f96",
   "metadata": {},
   "outputs": [],
   "source": [
    "abide_pearson = np.load(r\"./ABIDE_Pearson_output.npy\")\n",
    "plt.hist(np.log(abide_pearson), 500)\n",
    "plt.show()"
   ]
  },
  {
   "cell_type": "code",
   "execution_count": null,
   "id": "52a4bafc",
   "metadata": {},
   "outputs": [],
   "source": []
  }
 ],
 "metadata": {
  "kernelspec": {
   "display_name": "Python 3 (ipykernel)",
   "language": "python",
   "name": "python3"
  },
  "language_info": {
   "codemirror_mode": {
    "name": "ipython",
    "version": 3
   },
   "file_extension": ".py",
   "mimetype": "text/x-python",
   "name": "python",
   "nbconvert_exporter": "python",
   "pygments_lexer": "ipython3",
   "version": "3.9.15"
  },
  "latex_envs": {
   "LaTeX_envs_menu_present": true,
   "autoclose": false,
   "autocomplete": true,
   "bibliofile": "biblio.bib",
   "cite_by": "apalike",
   "current_citInitial": 1,
   "eqLabelWithNumbers": true,
   "eqNumInitial": 1,
   "hotkeys": {
    "equation": "Ctrl-E",
    "itemize": "Ctrl-I"
   },
   "labels_anchors": false,
   "latex_user_defs": false,
   "report_style_numbering": false,
   "user_envs_cfg": false
  }
 },
 "nbformat": 4,
 "nbformat_minor": 5
}
