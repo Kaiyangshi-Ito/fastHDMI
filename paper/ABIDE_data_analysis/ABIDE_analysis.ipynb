{
 "cells": [
  {
   "cell_type": "code",
   "execution_count": 8,
   "id": "39eea284-aeec-427b-b3fc-2a35d72a5825",
   "metadata": {
    "ExecuteTime": {
     "end_time": "2023-01-29T01:24:21.834360Z",
     "start_time": "2023-01-29T01:24:21.675974Z"
    }
   },
   "outputs": [
    {
     "ename": "ModuleNotFoundError",
     "evalue": "No module named 'multiprocess'",
     "output_type": "error",
     "traceback": [
      "\u001b[0;31m---------------------------------------------------------------------------\u001b[0m",
      "\u001b[0;31mModuleNotFoundError\u001b[0m                       Traceback (most recent call last)",
      "\u001b[0;32m/var/folders/zc/y092358s2412m31ltptpms_w0000gn/T/ipykernel_13913/2169539105.py\u001b[0m in \u001b[0;36m<module>\u001b[0;34m\u001b[0m\n\u001b[1;32m     10\u001b[0m \u001b[0;32mfrom\u001b[0m \u001b[0msklearn\u001b[0m\u001b[0;34m.\u001b[0m\u001b[0mlinear_model\u001b[0m \u001b[0;32mimport\u001b[0m \u001b[0mRidgeCV\u001b[0m\u001b[0;34m\u001b[0m\u001b[0;34m\u001b[0m\u001b[0m\n\u001b[1;32m     11\u001b[0m \u001b[0;32mfrom\u001b[0m \u001b[0msklearn\u001b[0m\u001b[0;34m.\u001b[0m\u001b[0mmetrics\u001b[0m \u001b[0;32mimport\u001b[0m \u001b[0mr2_score\u001b[0m\u001b[0;34m\u001b[0m\u001b[0;34m\u001b[0m\u001b[0m\n\u001b[0;32m---> 12\u001b[0;31m \u001b[0;32mimport\u001b[0m \u001b[0mmultiprocess\u001b[0m \u001b[0;32mas\u001b[0m \u001b[0mmp\u001b[0m\u001b[0;34m\u001b[0m\u001b[0;34m\u001b[0m\u001b[0m\n\u001b[0m",
      "\u001b[0;31mModuleNotFoundError\u001b[0m: No module named 'multiprocess'"
     ]
    }
   ],
   "source": [
    "import numpy as np\n",
    "import pandas as pd\n",
    "from dask import dataframe as dd\n",
    "import matplotlib.pyplot as plt\n",
    "from scipy.stats import kendalltau\n",
    "from scipy.stats import rankdata\n",
    "import fastHDMI as mi\n",
    "from sklearn.linear_model import LassoCV\n",
    "from sklearn.linear_model import ElasticNetCV\n",
    "from sklearn.linear_model import RidgeCV\n",
    "from sklearn.metrics import r2_score\n",
    "import multiprocess as mp"
   ]
  },
  {
   "cell_type": "markdown",
   "id": "c74af34a",
   "metadata": {},
   "source": [
    "# Calculate MI for ABIDE data\n",
    "# Calculation for age\n",
    "## this block is only to be run on Compute Canada"
   ]
  },
  {
   "cell_type": "code",
   "execution_count": null,
   "id": "ffa723c1-2843-424d-8ee3-90eb39dc843e",
   "metadata": {
    "ExecuteTime": {
     "end_time": "2023-01-16T20:00:25.218293Z",
     "start_time": "2023-01-16T20:00:25.107337Z"
    }
   },
   "outputs": [],
   "source": [
    "csv_file = r\"/home/kyang/projects/def-cgreenwo/abide_data/abide_fs60_vout_fwhm0_lh_SubjectIDFormatted_N1050_nonzero_withSEX.csv\"\n",
    "# abide = pd.read_csv(csv_file, encoding='unicode_escape', engine=\"c\")\n",
    "abide = dd.read_csv(csv_file, sample=1250000)\n",
    "\n",
    "# _abide_name = abide.columns.tolist()[1:]\n",
    "_abide_name = list(abide.columns)[1:]\n",
    "\n",
    "# print(_abide_name)\n",
    "\n",
    "# we don't inlcude age and sex in the screening since they should always be included in the model\n",
    "abide_name = [_abide_name[-3]] + _abide_name[1:-3]\n",
    "\n",
    "np.save(r\"/home/kyang/ABIDE_columns\", _abide_name[1:-3])\n",
    "\n",
    "# so that the left first column is the outcome and the rest columns are areas\n",
    "\n",
    "mi_output = mi.continuous_filter_csv_parallel(csv_file,\n",
    "                                              _usecols=abide_name,\n",
    "                                              csv_engine=\"c\",\n",
    "                                              sample=1250000)\n",
    "np.save(r\"/home/kyang/ABIDE_age_MI_output\", mi_output)\n",
    "\n",
    "pearson_output = mi.Pearson_filter_csv_parallel(csv_file,\n",
    "                                                _usecols=abide_name,\n",
    "                                                csv_engine=\"c\",\n",
    "                                                sample=1250000)\n",
    "np.save(r\"/home/kyang/ABIDE_age_Pearson_output\", pearson_output)"
   ]
  },
  {
   "cell_type": "markdown",
   "id": "46ea4ca1-abfd-4856-8f70-63658655173a",
   "metadata": {},
   "source": [
    "# Plots"
   ]
  },
  {
   "cell_type": "code",
   "execution_count": null,
   "id": "eb054aa1-5485-4ea5-8f0b-5eefadf893ca",
   "metadata": {
    "ExecuteTime": {
     "end_time": "2023-01-28T23:18:55.707317Z",
     "start_time": "2023-01-28T23:18:54.970001Z"
    }
   },
   "outputs": [],
   "source": [
    "abide_mi = np.load(r\"./ABIDE_age_MI_output.npy\")\n",
    "plt.hist(np.log(abide_mi), 500)\n",
    "plt.show()"
   ]
  },
  {
   "cell_type": "code",
   "execution_count": null,
   "id": "58f1a09a-45cf-46a3-be42-9f9394ee4f96",
   "metadata": {
    "ExecuteTime": {
     "end_time": "2023-01-28T23:18:56.146665Z",
     "start_time": "2023-01-28T23:18:55.708907Z"
    }
   },
   "outputs": [],
   "source": [
    "abide_pearson = np.load(r\"./ABIDE_age_Pearson_output.npy\")\n",
    "plt.hist(np.log(np.abs(abide_pearson)), 500)\n",
    "plt.show()"
   ]
  },
  {
   "cell_type": "markdown",
   "id": "b25d3fa0",
   "metadata": {},
   "source": [
    "## Comparing two ranking with Kendall's $\\tau$\n",
    "\n",
    "The results show that the two ranking by mutual information and Pearson's correlation vary greatly by Kendall's tau -- I also tried the Pearson's correlation between two ranking (not that I should do this) and the correlation is also very small.\n",
    "\n",
    "**So in summary, the two ranking vary greatly.**"
   ]
  },
  {
   "cell_type": "code",
   "execution_count": null,
   "id": "742260a9",
   "metadata": {
    "ExecuteTime": {
     "end_time": "2023-01-28T23:18:57.305513Z",
     "start_time": "2023-01-28T23:18:57.000457Z"
    }
   },
   "outputs": [],
   "source": [
    "plt.scatter(np.log(abide_mi), abide_pearson, s=10,\n",
    "            alpha=.2)  # s is the dot size\n",
    "plt.show()\n",
    "# keep this, add different selections\n",
    "# PREDICT AGE"
   ]
  },
  {
   "cell_type": "code",
   "execution_count": null,
   "id": "4e78ee74",
   "metadata": {
    "ExecuteTime": {
     "end_time": "2023-01-28T23:18:59.354446Z",
     "start_time": "2023-01-28T23:18:59.068324Z"
    }
   },
   "outputs": [],
   "source": [
    "print(\"Kendall's tau: \\n\",\n",
    "      kendalltau(rankdata(-abide_mi), rankdata(-np.abs(abide_pearson))))\n",
    "print(\"Pearson's correlation: \\n\",\n",
    "      np.corrcoef(rankdata(-abide_mi), rankdata(-np.abs(abide_pearson))))"
   ]
  },
  {
   "cell_type": "markdown",
   "id": "8afd4dbe",
   "metadata": {},
   "source": [
    "# Calculate MI for ABIDE data\n",
    "# Calculation for diagnosis outcome\n",
    "## this block is only to be run on Compute Canada"
   ]
  },
  {
   "cell_type": "code",
   "execution_count": null,
   "id": "d9c3680c",
   "metadata": {
    "ExecuteTime": {
     "end_time": "2023-01-20T04:56:33.182030Z",
     "start_time": "2023-01-20T04:56:32.928624Z"
    }
   },
   "outputs": [],
   "source": [
    "csv_file = r\"/home/kyang/projects/def-cgreenwo/abide_data/abide_fs60_vout_fwhm0_lh_SubjectIDFormatted_N1050_nonzero_withSEX.csv\"\n",
    "# abide = pd.read_csv(csv_file, encoding='unicode_escape', engine=\"c\")\n",
    "abide = dd.read_csv(csv_file, sample=1250000)\n",
    "\n",
    "# _abide_name = abide.columns.tolist()[1:]\n",
    "_abide_name = list(abide.columns)[1:]\n",
    "\n",
    "# print(_abide_name)\n",
    "\n",
    "# we don't inlcude age and sex in the screening since they should always be included in the model\n",
    "abide_name = [_abide_name[-1]] + _abide_name[1:-3]\n",
    "# so that the left first column is the outcome and the rest columns are areas\n",
    "\n",
    "mi_output = mi.binary_filter_csv_parallel(csv_file,\n",
    "                                          _usecols=abide_name,\n",
    "                                          csv_engine=\"c\",\n",
    "                                          sample=1250000)\n",
    "np.save(r\"/home/kyang/ABIDE_diagnosis_MI_output\", mi_output)\n",
    "\n",
    "pearson_output = mi.Pearson_filter_csv_parallel(csv_file,\n",
    "                                                _usecols=abide_name,\n",
    "                                                csv_engine=\"c\",\n",
    "                                                sample=1250000)\n",
    "np.save(r\"/home/kyang/ABIDE_diagnosis_Pearson_output\", pearson_output)"
   ]
  },
  {
   "cell_type": "markdown",
   "id": "c2de0251",
   "metadata": {},
   "source": [
    "# Plots"
   ]
  },
  {
   "cell_type": "code",
   "execution_count": null,
   "id": "5230b75d",
   "metadata": {
    "ExecuteTime": {
     "end_time": "2023-01-28T23:19:01.895910Z",
     "start_time": "2023-01-28T23:19:01.329394Z"
    }
   },
   "outputs": [],
   "source": [
    "abide_mi = np.load(r\"./ABIDE_diagnosis_MI_output.npy\")\n",
    "plt.hist(np.log(abide_mi), 500)\n",
    "plt.show()"
   ]
  },
  {
   "cell_type": "code",
   "execution_count": null,
   "id": "6a6440b8",
   "metadata": {
    "ExecuteTime": {
     "end_time": "2023-01-28T23:19:02.339137Z",
     "start_time": "2023-01-28T23:19:01.897577Z"
    }
   },
   "outputs": [],
   "source": [
    "abide_pearson = np.load(r\"./ABIDE_diagnosis_Pearson_output.npy\")\n",
    "plt.hist(np.log(np.abs(abide_pearson)), 500)\n",
    "plt.show()"
   ]
  },
  {
   "cell_type": "markdown",
   "id": "ba8cd6c2",
   "metadata": {},
   "source": [
    "## Comparing two ranking with Kendall's $\\tau$\n",
    "\n",
    "The results show that the two ranking by mutual information and Pearson's correlation vary greatly by Kendall's tau -- I also tried the Pearson's correlation between two ranking (not that I should do this) and the correlation is also very small.\n",
    "\n",
    "**So in summary, the two ranking vary greatly.**"
   ]
  },
  {
   "cell_type": "code",
   "execution_count": null,
   "id": "05d1f6d7",
   "metadata": {
    "ExecuteTime": {
     "end_time": "2023-01-28T23:19:02.505599Z",
     "start_time": "2023-01-28T23:19:02.340466Z"
    }
   },
   "outputs": [],
   "source": [
    "plt.scatter(np.log(abide_mi), abide_pearson, s=10,\n",
    "            alpha=.2)  # s is the dot size\n",
    "plt.show()\n",
    "# keep this, add different selections\n",
    "# PREDICT AGE"
   ]
  },
  {
   "cell_type": "code",
   "execution_count": null,
   "id": "31f92ad7",
   "metadata": {
    "ExecuteTime": {
     "end_time": "2023-01-28T23:19:02.584685Z",
     "start_time": "2023-01-28T23:19:02.506599Z"
    }
   },
   "outputs": [],
   "source": [
    "print(\"Kendall's tau: \\n\",\n",
    "      kendalltau(rankdata(-abide_mi), rankdata(-np.abs(abide_pearson))))\n",
    "print(\"Pearson's correlation: \\n\",\n",
    "      np.corrcoef(rankdata(-abide_mi), rankdata(-np.abs(abide_pearson))))"
   ]
  },
  {
   "cell_type": "markdown",
   "id": "4447fa79",
   "metadata": {},
   "source": [
    "# Try Fitting models to predict age, $5$-fold CV\n",
    "## this is for mutual information"
   ]
  },
  {
   "cell_type": "code",
   "execution_count": 9,
   "id": "648be1e5",
   "metadata": {
    "ExecuteTime": {
     "end_time": "2023-01-29T01:24:26.580846Z",
     "start_time": "2023-01-29T01:24:26.146631Z"
    }
   },
   "outputs": [],
   "source": [
    "df = pd.read_csv(r\"../../fastHDMI/tests/sim/sim_continuous.csv\",\n",
    "                 encoding='unicode_escape',\n",
    "                 engine='c')"
   ]
  },
  {
   "cell_type": "code",
   "execution_count": 10,
   "id": "b5cb6b81",
   "metadata": {
    "ExecuteTime": {
     "end_time": "2023-01-29T01:24:26.770365Z",
     "start_time": "2023-01-29T01:24:26.741332Z"
    }
   },
   "outputs": [
    {
     "name": "stdout",
     "output_type": "stream",
     "text": [
      "Variable names not provided -- start reading variable names from csv file now, might take some time, depending on the csv file size.\n"
     ]
    },
    {
     "ename": "ValueError",
     "evalue": "Unknown engine: pyarrow (valid options are dict_keys(['c', 'python', 'python-fwf']))",
     "output_type": "error",
     "traceback": [
      "\u001b[1;31m---------------------------------------------------------------------------\u001b[0m",
      "\u001b[1;31mValueError\u001b[0m                                Traceback (most recent call last)",
      "\u001b[1;32m~\\AppData\\Local\\Temp\\ipykernel_16280\\3349631454.py\u001b[0m in \u001b[0;36m<module>\u001b[1;34m\u001b[0m\n\u001b[0;32m      4\u001b[0m \u001b[0mcolumns\u001b[0m \u001b[1;33m=\u001b[0m \u001b[0mnp\u001b[0m\u001b[1;33m.\u001b[0m\u001b[0marray\u001b[0m\u001b[1;33m(\u001b[0m\u001b[0mdf\u001b[0m\u001b[1;33m.\u001b[0m\u001b[0mcolumns\u001b[0m\u001b[1;33m.\u001b[0m\u001b[0mto_list\u001b[0m\u001b[1;33m(\u001b[0m\u001b[1;33m)\u001b[0m\u001b[1;33m[\u001b[0m\u001b[1;36m2\u001b[0m\u001b[1;33m:\u001b[0m\u001b[1;33m]\u001b[0m\u001b[1;33m)\u001b[0m  \u001b[1;31m# replace with column names\u001b[0m\u001b[1;33m\u001b[0m\u001b[1;33m\u001b[0m\u001b[0m\n\u001b[0;32m      5\u001b[0m abide_mi = mi.continuous_filter_csv_parallel(\n\u001b[1;32m----> 6\u001b[1;33m     \u001b[1;34mr\"../../fastHDMI/tests/sim/sim_continuous.csv\"\u001b[0m\u001b[1;33m\u001b[0m\u001b[1;33m\u001b[0m\u001b[0m\n\u001b[0m\u001b[0;32m      7\u001b[0m )  # replace with calculated MI\n\u001b[0;32m      8\u001b[0m _usecols = np.hstack(\n",
      "\u001b[1;32m~\\anaconda3\\lib\\site-packages\\fastHDMI\\__init__.py\u001b[0m in \u001b[0;36mcontinuous_filter_csv_parallel\u001b[1;34m(csv_file, _usecols, a_N, b_N, kernel, bw, norm, machine_err, core_num, multp, csv_engine, parquet_file)\u001b[0m\n\u001b[0;32m    622\u001b[0m                                \u001b[0m_usecols\u001b[0m\u001b[1;33m=\u001b[0m\u001b[0m_usecols\u001b[0m\u001b[1;33m,\u001b[0m\u001b[1;33m\u001b[0m\u001b[1;33m\u001b[0m\u001b[0m\n\u001b[0;32m    623\u001b[0m                                \u001b[0mcsv_engine\u001b[0m\u001b[1;33m=\u001b[0m\u001b[0mcsv_engine\u001b[0m\u001b[1;33m,\u001b[0m\u001b[1;33m\u001b[0m\u001b[1;33m\u001b[0m\u001b[0m\n\u001b[1;32m--> 624\u001b[1;33m                                parquet_file=parquet_file)\n\u001b[0m\u001b[0;32m    625\u001b[0m \u001b[1;33m\u001b[0m\u001b[0m\n\u001b[0;32m    626\u001b[0m     \u001b[1;33m@\u001b[0m\u001b[0m_jit\u001b[0m\u001b[1;33m(\u001b[0m\u001b[0mforceobj\u001b[0m\u001b[1;33m=\u001b[0m\u001b[1;32mTrue\u001b[0m\u001b[1;33m,\u001b[0m \u001b[0mnogil\u001b[0m\u001b[1;33m=\u001b[0m\u001b[1;32mTrue\u001b[0m\u001b[1;33m,\u001b[0m \u001b[0mcache\u001b[0m\u001b[1;33m=\u001b[0m\u001b[1;32mTrue\u001b[0m\u001b[1;33m,\u001b[0m \u001b[0mparallel\u001b[0m\u001b[1;33m=\u001b[0m\u001b[1;32mTrue\u001b[0m\u001b[1;33m,\u001b[0m \u001b[0mfastmath\u001b[0m\u001b[1;33m=\u001b[0m\u001b[1;32mTrue\u001b[0m\u001b[1;33m)\u001b[0m\u001b[1;33m\u001b[0m\u001b[1;33m\u001b[0m\u001b[0m\n",
      "\u001b[1;32m~\\anaconda3\\lib\\site-packages\\pandas\\util\\_decorators.py\u001b[0m in \u001b[0;36mwrapper\u001b[1;34m(*args, **kwargs)\u001b[0m\n\u001b[0;32m    309\u001b[0m                     \u001b[0mstacklevel\u001b[0m\u001b[1;33m=\u001b[0m\u001b[0mstacklevel\u001b[0m\u001b[1;33m,\u001b[0m\u001b[1;33m\u001b[0m\u001b[1;33m\u001b[0m\u001b[0m\n\u001b[0;32m    310\u001b[0m                 )\n\u001b[1;32m--> 311\u001b[1;33m             \u001b[1;32mreturn\u001b[0m \u001b[0mfunc\u001b[0m\u001b[1;33m(\u001b[0m\u001b[1;33m*\u001b[0m\u001b[0margs\u001b[0m\u001b[1;33m,\u001b[0m \u001b[1;33m**\u001b[0m\u001b[0mkwargs\u001b[0m\u001b[1;33m)\u001b[0m\u001b[1;33m\u001b[0m\u001b[1;33m\u001b[0m\u001b[0m\n\u001b[0m\u001b[0;32m    312\u001b[0m \u001b[1;33m\u001b[0m\u001b[0m\n\u001b[0;32m    313\u001b[0m         \u001b[1;32mreturn\u001b[0m \u001b[0mwrapper\u001b[0m\u001b[1;33m\u001b[0m\u001b[1;33m\u001b[0m\u001b[0m\n",
      "\u001b[1;32m~\\anaconda3\\lib\\site-packages\\pandas\\io\\parsers\\readers.py\u001b[0m in \u001b[0;36mread_csv\u001b[1;34m(filepath_or_buffer, sep, delimiter, header, names, index_col, usecols, squeeze, prefix, mangle_dupe_cols, dtype, engine, converters, true_values, false_values, skipinitialspace, skiprows, skipfooter, nrows, na_values, keep_default_na, na_filter, verbose, skip_blank_lines, parse_dates, infer_datetime_format, keep_date_col, date_parser, dayfirst, cache_dates, iterator, chunksize, compression, thousands, decimal, lineterminator, quotechar, quoting, doublequote, escapechar, comment, encoding, encoding_errors, dialect, error_bad_lines, warn_bad_lines, on_bad_lines, delim_whitespace, low_memory, memory_map, float_precision, storage_options)\u001b[0m\n\u001b[0;32m    584\u001b[0m     \u001b[0mkwds\u001b[0m\u001b[1;33m.\u001b[0m\u001b[0mupdate\u001b[0m\u001b[1;33m(\u001b[0m\u001b[0mkwds_defaults\u001b[0m\u001b[1;33m)\u001b[0m\u001b[1;33m\u001b[0m\u001b[1;33m\u001b[0m\u001b[0m\n\u001b[0;32m    585\u001b[0m \u001b[1;33m\u001b[0m\u001b[0m\n\u001b[1;32m--> 586\u001b[1;33m     \u001b[1;32mreturn\u001b[0m \u001b[0m_read\u001b[0m\u001b[1;33m(\u001b[0m\u001b[0mfilepath_or_buffer\u001b[0m\u001b[1;33m,\u001b[0m \u001b[0mkwds\u001b[0m\u001b[1;33m)\u001b[0m\u001b[1;33m\u001b[0m\u001b[1;33m\u001b[0m\u001b[0m\n\u001b[0m\u001b[0;32m    587\u001b[0m \u001b[1;33m\u001b[0m\u001b[0m\n\u001b[0;32m    588\u001b[0m \u001b[1;33m\u001b[0m\u001b[0m\n",
      "\u001b[1;32m~\\anaconda3\\lib\\site-packages\\pandas\\io\\parsers\\readers.py\u001b[0m in \u001b[0;36m_read\u001b[1;34m(filepath_or_buffer, kwds)\u001b[0m\n\u001b[0;32m    480\u001b[0m \u001b[1;33m\u001b[0m\u001b[0m\n\u001b[0;32m    481\u001b[0m     \u001b[1;31m# Create the parser.\u001b[0m\u001b[1;33m\u001b[0m\u001b[1;33m\u001b[0m\u001b[1;33m\u001b[0m\u001b[0m\n\u001b[1;32m--> 482\u001b[1;33m     \u001b[0mparser\u001b[0m \u001b[1;33m=\u001b[0m \u001b[0mTextFileReader\u001b[0m\u001b[1;33m(\u001b[0m\u001b[0mfilepath_or_buffer\u001b[0m\u001b[1;33m,\u001b[0m \u001b[1;33m**\u001b[0m\u001b[0mkwds\u001b[0m\u001b[1;33m)\u001b[0m\u001b[1;33m\u001b[0m\u001b[1;33m\u001b[0m\u001b[0m\n\u001b[0m\u001b[0;32m    483\u001b[0m \u001b[1;33m\u001b[0m\u001b[0m\n\u001b[0;32m    484\u001b[0m     \u001b[1;32mif\u001b[0m \u001b[0mchunksize\u001b[0m \u001b[1;32mor\u001b[0m \u001b[0miterator\u001b[0m\u001b[1;33m:\u001b[0m\u001b[1;33m\u001b[0m\u001b[1;33m\u001b[0m\u001b[0m\n",
      "\u001b[1;32m~\\anaconda3\\lib\\site-packages\\pandas\\io\\parsers\\readers.py\u001b[0m in \u001b[0;36m__init__\u001b[1;34m(self, f, engine, **kwds)\u001b[0m\n\u001b[0;32m    809\u001b[0m             \u001b[0mself\u001b[0m\u001b[1;33m.\u001b[0m\u001b[0moptions\u001b[0m\u001b[1;33m[\u001b[0m\u001b[1;34m\"has_index_names\"\u001b[0m\u001b[1;33m]\u001b[0m \u001b[1;33m=\u001b[0m \u001b[0mkwds\u001b[0m\u001b[1;33m[\u001b[0m\u001b[1;34m\"has_index_names\"\u001b[0m\u001b[1;33m]\u001b[0m\u001b[1;33m\u001b[0m\u001b[1;33m\u001b[0m\u001b[0m\n\u001b[0;32m    810\u001b[0m \u001b[1;33m\u001b[0m\u001b[0m\n\u001b[1;32m--> 811\u001b[1;33m         \u001b[0mself\u001b[0m\u001b[1;33m.\u001b[0m\u001b[0m_engine\u001b[0m \u001b[1;33m=\u001b[0m \u001b[0mself\u001b[0m\u001b[1;33m.\u001b[0m\u001b[0m_make_engine\u001b[0m\u001b[1;33m(\u001b[0m\u001b[0mself\u001b[0m\u001b[1;33m.\u001b[0m\u001b[0mengine\u001b[0m\u001b[1;33m)\u001b[0m\u001b[1;33m\u001b[0m\u001b[1;33m\u001b[0m\u001b[0m\n\u001b[0m\u001b[0;32m    812\u001b[0m \u001b[1;33m\u001b[0m\u001b[0m\n\u001b[0;32m    813\u001b[0m     \u001b[1;32mdef\u001b[0m \u001b[0mclose\u001b[0m\u001b[1;33m(\u001b[0m\u001b[0mself\u001b[0m\u001b[1;33m)\u001b[0m\u001b[1;33m:\u001b[0m\u001b[1;33m\u001b[0m\u001b[1;33m\u001b[0m\u001b[0m\n",
      "\u001b[1;32m~\\anaconda3\\lib\\site-packages\\pandas\\io\\parsers\\readers.py\u001b[0m in \u001b[0;36m_make_engine\u001b[1;34m(self, engine)\u001b[0m\n\u001b[0;32m   1035\u001b[0m         \u001b[1;32mif\u001b[0m \u001b[0mengine\u001b[0m \u001b[1;32mnot\u001b[0m \u001b[1;32min\u001b[0m \u001b[0mmapping\u001b[0m\u001b[1;33m:\u001b[0m\u001b[1;33m\u001b[0m\u001b[1;33m\u001b[0m\u001b[0m\n\u001b[0;32m   1036\u001b[0m             raise ValueError(\n\u001b[1;32m-> 1037\u001b[1;33m                 \u001b[1;34mf\"Unknown engine: {engine} (valid options are {mapping.keys()})\"\u001b[0m\u001b[1;33m\u001b[0m\u001b[1;33m\u001b[0m\u001b[0m\n\u001b[0m\u001b[0;32m   1038\u001b[0m             )\n\u001b[0;32m   1039\u001b[0m         \u001b[1;31m# error: Too many arguments for \"ParserBase\"\u001b[0m\u001b[1;33m\u001b[0m\u001b[1;33m\u001b[0m\u001b[1;33m\u001b[0m\u001b[0m\n",
      "\u001b[1;31mValueError\u001b[0m: Unknown engine: pyarrow (valid options are dict_keys(['c', 'python', 'python-fwf']))"
     ]
    }
   ],
   "source": [
    "num_covariates = 20  # number of covariates to use\n",
    "outcome_name = \"Var 1\"  # outcome column name\n",
    "training_proportion = .8\n",
    "columns = np.array(df.columns.to_list()[2:])  # replace with column names\n",
    "abide_mi = mi.continuous_filter_csv_parallel(\n",
    "    r\"../../fastHDMI/tests/sim/sim_continuous.csv\"\n",
    ")  # replace with calculated MI\n",
    "_usecols = np.hstack(\n",
    "    (outcome_name, columns[np.argsort(abide_mi)][:num_covariates]))\n",
    "\n",
    "csv_file = r\"/home/kyang/projects/def-cgreenwo/abide_data/abide_fs60_vout_fwhm0_lh_SubjectIDFormatted_N1050_nonzero_withSEX.csv\"\n",
    "original_df = pd.read_csv(csv_file, encoding='unicode_escape', engine='c')\n",
    "\n",
    "\n",
    "def testing_error(num_covariates=20,\n",
    "                  training_proportion=.8,\n",
    "                  fun=ElasticNetCV,\n",
    "                  outcome_name=\"AGE_AT_SCAN\",\n",
    "                  seed=1):\n",
    "    np.random.seed(seed)\n",
    "    columns = np.load(r\"./ABIDE_columns.npy\")\n",
    "    abide_mi = np.load(r\"./ABIDE_age_MI_output.npy\"\n",
    "                       )  # for Pearson, use ABIDE_age_Pearson_output.npy\n",
    "    _usecols = np.hstack((outcome_name, \"SEX\", \"DX_GROUP\",\n",
    "                          columns[np.argsort(-abide_mi)][:num_covariates]))\n",
    "\n",
    "    df = original_df[_usecols].dropna(inplace=False).sample(\n",
    "        frac=1, random_state=seed, replace=False).reset_index(drop=True,\n",
    "                                                              inplace=False)\n",
    "    if df.shape[0] > 20:\n",
    "        train_test_div = int(np.around(df.shape[0] * training_proportion))\n",
    "        X_train, y_train = df.iloc[:train_test_div,\n",
    "                                   1:], df.iloc[:train_test_div, 0]\n",
    "        X_test, y_test = df.iloc[train_test_div:, 1:], df.iloc[train_test_div:,\n",
    "                                                               0]\n",
    "        if fun in [ElasticNetCV, LassoCV]:\n",
    "            fit = fun(cv=5, random_state=seed).fit(X_train, y_train)\n",
    "        elif fun in [RidgeCV]:  # RidgeCV doesn't have seed setting\n",
    "            fit = fun(cv=5).fit(X_train, y_train)\n",
    "        y_pred = fit.predict(X_test)\n",
    "        out = r2_score(y_test, y_pred)\n",
    "    else:\n",
    "        out = np.nan\n",
    "    return out\n",
    "\n",
    "\n",
    "def testing_error_rep(num_covariates=20,\n",
    "                      training_proportion=.8,\n",
    "                      fun=ElasticNetCV,\n",
    "                      outcome_name=\"AGE_AT_SCAN\",\n",
    "                      num_rep=10):\n",
    "    def _testing_error(seed):\n",
    "        return testing_error(num_covariates=num_covariates,\n",
    "                             training_proportion=training_proportion,\n",
    "                             fun=fun,\n",
    "                             outcome_name=outcome_name,\n",
    "                             seed=seed)\n",
    "\n",
    "    seeds = np.arange(num_rep)\n",
    "    return np.array(list(map(_testing_error, seeds)))\n",
    "\n",
    "\n",
    "def testing_error_num_attr(num_attr,\n",
    "                           training_proportion=.8,\n",
    "                           fun=ElasticNetCV,\n",
    "                           outcome_name=\"AGE_AT_SCAN\",\n",
    "                           num_rep=10):\n",
    "    def _testing_error_rep(_num_attr):\n",
    "        return testing_error_rep(num_covariates=_num_attr,\n",
    "                                 training_proportion=training_proportion,\n",
    "                                 fun=fun,\n",
    "                                 outcome_name=outcome_name,\n",
    "                                 num_rep=num_rep)\n",
    "\n",
    "    return np.array(list(map(_testing_error_rep, num_attr)))\n",
    "\n",
    "\n",
    "output = testing_error_num_attr(\n",
    "    num_attr=list(\n",
    "        map(int,\n",
    "            np.around(np.linspace(0, 149959 / 100, 50 + 1)[1:]).tolist())\n",
    "    ),  # so here it will screen the number of covariates roughly 30 apart\n",
    "    training_proportion=.8,  # 80/20 training+validation/testing division\n",
    "    fun=ElasticNetCV,  # here it says to use ElasticNetCV\n",
    "    outcome_name=\"AGE_AT_SCAN\",\n",
    "    num_rep=200)\n",
    "np.save(r\"./ABIDE_age_MI_ElasticNetCV\", output)"
   ]
  },
  {
   "cell_type": "code",
   "execution_count": null,
   "id": "19a4ed17",
   "metadata": {
    "ExecuteTime": {
     "end_time": "2023-01-29T01:24:26.774335Z",
     "start_time": "2023-01-29T01:24:26.774335Z"
    }
   },
   "outputs": [],
   "source": [
    "X_train, y_train = df.iloc[:train_test_div, 1:], df.iloc[:train_test_div, 0]\n",
    "X_test, y_test = df.iloc[train_test_div:, 1:], df.iloc[train_test_div:, 0]"
   ]
  },
  {
   "cell_type": "code",
   "execution_count": 11,
   "id": "5aef837a",
   "metadata": {
    "ExecuteTime": {
     "end_time": "2023-01-29T01:24:26.911364Z",
     "start_time": "2023-01-29T01:24:26.901333Z"
    }
   },
   "outputs": [
    {
     "ename": "NameError",
     "evalue": "name 'X_train' is not defined",
     "output_type": "error",
     "traceback": [
      "\u001b[1;31m---------------------------------------------------------------------------\u001b[0m",
      "\u001b[1;31mNameError\u001b[0m                                 Traceback (most recent call last)",
      "\u001b[1;32m~\\AppData\\Local\\Temp\\ipykernel_16280\\2104710813.py\u001b[0m in \u001b[0;36m<module>\u001b[1;34m\u001b[0m\n\u001b[1;32m----> 1\u001b[1;33m \u001b[0mfit\u001b[0m \u001b[1;33m=\u001b[0m \u001b[0mLassoCV\u001b[0m\u001b[1;33m(\u001b[0m\u001b[0mcv\u001b[0m \u001b[1;33m=\u001b[0m \u001b[1;36m5\u001b[0m\u001b[1;33m)\u001b[0m\u001b[1;33m.\u001b[0m\u001b[0mfit\u001b[0m\u001b[1;33m(\u001b[0m\u001b[0mX_train\u001b[0m\u001b[1;33m,\u001b[0m \u001b[0my_train\u001b[0m\u001b[1;33m)\u001b[0m\u001b[1;33m\u001b[0m\u001b[1;33m\u001b[0m\u001b[0m\n\u001b[0m\u001b[0;32m      2\u001b[0m \u001b[0my_pred\u001b[0m \u001b[1;33m=\u001b[0m \u001b[0mfit\u001b[0m\u001b[1;33m.\u001b[0m\u001b[0mpredict\u001b[0m\u001b[1;33m(\u001b[0m\u001b[0mX_train\u001b[0m\u001b[1;33m)\u001b[0m\u001b[1;33m\u001b[0m\u001b[1;33m\u001b[0m\u001b[0m\n\u001b[0;32m      3\u001b[0m \u001b[0mr2_score\u001b[0m\u001b[1;33m(\u001b[0m\u001b[0my_train\u001b[0m\u001b[1;33m,\u001b[0m \u001b[0my_pred\u001b[0m\u001b[1;33m)\u001b[0m\u001b[1;33m\u001b[0m\u001b[1;33m\u001b[0m\u001b[0m\n",
      "\u001b[1;31mNameError\u001b[0m: name 'X_train' is not defined"
     ]
    }
   ],
   "source": [
    "fit = LassoCV(cv = 5).fit(X_train, y_train)\n",
    "y_pred = fit.predict(X_train)\n",
    "r2_score(y_train, y_pred)"
   ]
  },
  {
   "cell_type": "code",
   "execution_count": 12,
   "id": "dda4464e",
   "metadata": {
    "ExecuteTime": {
     "end_time": "2023-01-29T01:24:27.161874Z",
     "start_time": "2023-01-29T01:24:27.150850Z"
    }
   },
   "outputs": [
    {
     "ename": "NameError",
     "evalue": "name 'fit' is not defined",
     "output_type": "error",
     "traceback": [
      "\u001b[1;31m---------------------------------------------------------------------------\u001b[0m",
      "\u001b[1;31mNameError\u001b[0m                                 Traceback (most recent call last)",
      "\u001b[1;32m~\\AppData\\Local\\Temp\\ipykernel_16280\\655271843.py\u001b[0m in \u001b[0;36m<module>\u001b[1;34m\u001b[0m\n\u001b[1;32m----> 1\u001b[1;33m \u001b[0mfit\u001b[0m\u001b[1;33m.\u001b[0m\u001b[0mcoef_\u001b[0m\u001b[1;33m\u001b[0m\u001b[1;33m\u001b[0m\u001b[0m\n\u001b[0m",
      "\u001b[1;31mNameError\u001b[0m: name 'fit' is not defined"
     ]
    }
   ],
   "source": [
    "fit.coef_"
   ]
  },
  {
   "cell_type": "code",
   "execution_count": 7,
   "id": "e83120f8",
   "metadata": {
    "ExecuteTime": {
     "end_time": "2023-01-29T01:21:47.169466Z",
     "start_time": "2023-01-29T01:21:47.155463Z"
    }
   },
   "outputs": [
    {
     "ename": "NameError",
     "evalue": "name 'y_test' is not defined",
     "output_type": "error",
     "traceback": [
      "\u001b[1;31m---------------------------------------------------------------------------\u001b[0m",
      "\u001b[1;31mNameError\u001b[0m                                 Traceback (most recent call last)",
      "\u001b[1;32m~\\AppData\\Local\\Temp\\ipykernel_16280\\3505979924.py\u001b[0m in \u001b[0;36m<module>\u001b[1;34m\u001b[0m\n\u001b[1;32m----> 1\u001b[1;33m \u001b[0my_test\u001b[0m\u001b[1;33m,\u001b[0m \u001b[0my_pred\u001b[0m\u001b[1;33m\u001b[0m\u001b[1;33m\u001b[0m\u001b[0m\n\u001b[0m",
      "\u001b[1;31mNameError\u001b[0m: name 'y_test' is not defined"
     ]
    }
   ],
   "source": [
    "y_test, y_pred"
   ]
  },
  {
   "cell_type": "code",
   "execution_count": null,
   "id": "897238c1",
   "metadata": {},
   "outputs": [],
   "source": []
  }
 ],
 "metadata": {
  "kernelspec": {
   "display_name": "Python 3 (ipykernel)",
   "language": "python",
   "name": "python3"
  },
  "language_info": {
   "codemirror_mode": {
    "name": "ipython",
    "version": 3
   },
   "file_extension": ".py",
   "mimetype": "text/x-python",
   "name": "python",
   "nbconvert_exporter": "python",
   "pygments_lexer": "ipython3",
   "version": "3.7.15"
  },
  "latex_envs": {
   "LaTeX_envs_menu_present": true,
   "autoclose": false,
   "autocomplete": true,
   "bibliofile": "biblio.bib",
   "cite_by": "apalike",
   "current_citInitial": 1,
   "eqLabelWithNumbers": true,
   "eqNumInitial": 1,
   "hotkeys": {
    "equation": "Ctrl-E",
    "itemize": "Ctrl-I"
   },
   "labels_anchors": false,
   "latex_user_defs": false,
   "report_style_numbering": false,
   "user_envs_cfg": false
  },
  "toc": {
   "base_numbering": 1,
   "nav_menu": {},
   "number_sections": true,
   "sideBar": true,
   "skip_h1_title": false,
   "title_cell": "Table of Contents",
   "title_sidebar": "Contents",
   "toc_cell": false,
   "toc_position": {},
   "toc_section_display": true,
   "toc_window_display": false
  },
  "varInspector": {
   "cols": {
    "lenName": 16,
    "lenType": 16,
    "lenVar": 40
   },
   "kernels_config": {
    "python": {
     "delete_cmd_postfix": "",
     "delete_cmd_prefix": "del ",
     "library": "var_list.py",
     "varRefreshCmd": "print(var_dic_list())"
    },
    "r": {
     "delete_cmd_postfix": ") ",
     "delete_cmd_prefix": "rm(",
     "library": "var_list.r",
     "varRefreshCmd": "cat(var_dic_list()) "
    }
   },
   "types_to_exclude": [
    "module",
    "function",
    "builtin_function_or_method",
    "instance",
    "_Feature"
   ],
   "window_display": false
  }
 },
 "nbformat": 4,
 "nbformat_minor": 5
}
