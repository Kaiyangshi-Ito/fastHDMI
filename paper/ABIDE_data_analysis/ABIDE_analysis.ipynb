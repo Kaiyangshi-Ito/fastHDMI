{
 "cells": [
  {
   "cell_type": "code",
   "execution_count": 2,
   "id": "39eea284-aeec-427b-b3fc-2a35d72a5825",
   "metadata": {
    "ExecuteTime": {
     "end_time": "2023-02-01T17:13:51.407824Z",
     "start_time": "2023-02-01T17:13:44.121189Z"
    }
   },
   "outputs": [],
   "source": [
    "import numpy as np\n",
    "import pandas as pd\n",
    "from dask import dataframe as dd\n",
    "import matplotlib.pyplot as plt\n",
    "from scipy.stats import kendalltau\n",
    "from scipy.stats import rankdata\n",
    "from scipy.stats import norm\n",
    "import fastHDMI as mi\n",
    "from sklearn.linear_model import LassoCV\n",
    "from sklearn.linear_model import ElasticNetCV\n",
    "from sklearn.linear_model import RidgeCV\n",
    "from sklearn.metrics import r2_score\n",
    "import multiprocess as mp\n",
    "from tqdm import tqdm as tqdm"
   ]
  },
  {
   "cell_type": "markdown",
   "id": "c74af34a",
   "metadata": {},
   "source": [
    "# Calculate MI for ABIDE data\n",
    "# Calculation for age\n",
    "## this block is only to be run on Compute Canada"
   ]
  },
  {
   "cell_type": "code",
   "execution_count": null,
   "id": "ffa723c1-2843-424d-8ee3-90eb39dc843e",
   "metadata": {
    "ExecuteTime": {
     "end_time": "2023-01-16T20:00:25.218293Z",
     "start_time": "2023-01-16T20:00:25.107337Z"
    }
   },
   "outputs": [],
   "source": [
    "csv_file = r\"/home/kyang/projects/def-cgreenwo/abide_data/abide_fs60_vout_fwhm0_lh_SubjectIDFormatted_N1050_nonzero_withSEX.csv\"\n",
    "# abide = pd.read_csv(csv_file, encoding='unicode_escape', engine=\"c\")\n",
    "abide = dd.read_csv(csv_file, sample=1250000)\n",
    "\n",
    "# _abide_name = abide.columns.tolist()[1:]\n",
    "_abide_name = list(abide.columns)[1:]\n",
    "\n",
    "# print(_abide_name)\n",
    "\n",
    "# we don't inlcude age and sex in the screening since they should always be included in the model\n",
    "abide_name = [_abide_name[-3]] + _abide_name[1:-3]\n",
    "\n",
    "np.save(r\"./ABIDE_columns\", _abide_name[1:-3])\n",
    "\n",
    "# so that the left first column is the outcome and the rest columns are areas\n",
    "\n",
    "mi_output = mi.continuous_screening_csv_parallel(csv_file,\n",
    "                                                 _usecols=abide_name,\n",
    "                                                 csv_engine=\"c\",\n",
    "                                                 sample=1250000,\n",
    "                                                 multp=10)\n",
    "np.save(r\"./ABIDE_age_MI_output\", mi_output)\n",
    "\n",
    "pearson_output = mi.Pearson_screening_csv_parallel(csv_file,\n",
    "                                                   _usecols=abide_name,\n",
    "                                                   csv_engine=\"c\",\n",
    "                                                   sample=1250000,\n",
    "                                                   multp=10)\n",
    "np.save(r\"./ABIDE_age_Pearson_output\", pearson_output)"
   ]
  },
  {
   "cell_type": "markdown",
   "id": "46ea4ca1-abfd-4856-8f70-63658655173a",
   "metadata": {},
   "source": [
    "# Plots"
   ]
  },
  {
   "cell_type": "code",
   "execution_count": null,
   "id": "eb054aa1-5485-4ea5-8f0b-5eefadf893ca",
   "metadata": {
    "ExecuteTime": {
     "end_time": "2023-01-29T21:08:20.600540Z",
     "start_time": "2023-01-29T21:08:19.875928Z"
    }
   },
   "outputs": [],
   "source": [
    "abide_mi = np.load(r\"./ABIDE_age_MI_output.npy\")\n",
    "plt.hist(np.log(abide_mi), 500)\n",
    "plt.show()"
   ]
  },
  {
   "cell_type": "code",
   "execution_count": null,
   "id": "58f1a09a-45cf-46a3-be42-9f9394ee4f96",
   "metadata": {
    "ExecuteTime": {
     "end_time": "2023-01-29T21:08:21.104098Z",
     "start_time": "2023-01-29T21:08:20.601869Z"
    }
   },
   "outputs": [],
   "source": [
    "abide_pearson = np.load(r\"./ABIDE_age_Pearson_output.npy\")\n",
    "plt.hist(np.log(np.abs(abide_pearson)), 500)\n",
    "plt.show()"
   ]
  },
  {
   "cell_type": "markdown",
   "id": "b25d3fa0",
   "metadata": {},
   "source": [
    "## Comparing two ranking with Kendall's $\\tau$\n",
    "\n",
    "The results show that the two ranking by mutual information and Pearson's correlation vary greatly by Kendall's tau -- I also tried the Pearson's correlation between two ranking (not that I should do this) and the correlation is also very small.\n",
    "\n",
    "**So in summary, the two ranking vary greatly.**"
   ]
  },
  {
   "cell_type": "code",
   "execution_count": null,
   "id": "742260a9",
   "metadata": {
    "ExecuteTime": {
     "end_time": "2023-01-29T21:08:23.578055Z",
     "start_time": "2023-01-29T21:08:23.270306Z"
    }
   },
   "outputs": [],
   "source": [
    "plt.scatter(np.log(abide_mi), abide_pearson, s=10,\n",
    "            alpha=.2)  # s is the dot size\n",
    "plt.show()\n",
    "# keep this, add different selections\n",
    "# PREDICT AGE"
   ]
  },
  {
   "cell_type": "code",
   "execution_count": null,
   "id": "4e78ee74",
   "metadata": {
    "ExecuteTime": {
     "end_time": "2023-01-29T21:08:23.659306Z",
     "start_time": "2023-01-29T21:08:23.579330Z"
    }
   },
   "outputs": [],
   "source": [
    "print(\"Kendall's tau: \\n\",\n",
    "      kendalltau(rankdata(-abide_mi), rankdata(-np.abs(abide_pearson))))\n",
    "print(\"Pearson's correlation: \\n\",\n",
    "      np.corrcoef(rankdata(-abide_mi), rankdata(-np.abs(abide_pearson))))"
   ]
  },
  {
   "cell_type": "markdown",
   "id": "8afd4dbe",
   "metadata": {},
   "source": [
    "# Calculate MI for ABIDE data\n",
    "# Calculation for diagnosis outcome\n",
    "## this block is only to be run on Compute Canada"
   ]
  },
  {
   "cell_type": "code",
   "execution_count": null,
   "id": "d9c3680c",
   "metadata": {
    "ExecuteTime": {
     "end_time": "2023-01-20T04:56:33.182030Z",
     "start_time": "2023-01-20T04:56:32.928624Z"
    }
   },
   "outputs": [],
   "source": [
    "csv_file = r\"/home/kyang/projects/def-cgreenwo/abide_data/abide_fs60_vout_fwhm0_lh_SubjectIDFormatted_N1050_nonzero_withSEX.csv\"\n",
    "# abide = pd.read_csv(csv_file, encoding='unicode_escape', engine=\"c\")\n",
    "abide = dd.read_csv(csv_file, sample=1250000)\n",
    "\n",
    "# _abide_name = abide.columns.tolist()[1:]\n",
    "_abide_name = list(abide.columns)[1:]\n",
    "\n",
    "# print(_abide_name)\n",
    "\n",
    "# we don't inlcude age and sex in the screening since they should always be included in the model\n",
    "abide_name = [_abide_name[-1]] + _abide_name[1:-3]\n",
    "# so that the left first column is the outcome and the rest columns are areas\n",
    "\n",
    "mi_output = mi.binary_screening_csv_parallel(csv_file,\n",
    "                                             _usecols=abide_name,\n",
    "                                             csv_engine=\"c\",\n",
    "                                             sample=1250000,\n",
    "                                             multp=10)\n",
    "np.save(r\"./ABIDE_diagnosis_MI_output\", mi_output)\n",
    "\n",
    "pearson_output = mi.Pearson_screening_csv_parallel(csv_file,\n",
    "                                                   _usecols=abide_name,\n",
    "                                                   csv_engine=\"c\",\n",
    "                                                   sample=1250000,\n",
    "                                                   multp=10)\n",
    "np.save(r\"./ABIDE_diagnosis_Pearson_output\", pearson_output)"
   ]
  },
  {
   "cell_type": "markdown",
   "id": "c2de0251",
   "metadata": {},
   "source": [
    "# Plots"
   ]
  },
  {
   "cell_type": "code",
   "execution_count": null,
   "id": "5230b75d",
   "metadata": {
    "ExecuteTime": {
     "end_time": "2023-01-29T21:08:28.899211Z",
     "start_time": "2023-01-29T21:08:28.334521Z"
    }
   },
   "outputs": [],
   "source": [
    "abide_mi = np.load(r\"./ABIDE_diagnosis_MI_output.npy\")\n",
    "plt.hist(np.log(abide_mi), 500)\n",
    "plt.show()"
   ]
  },
  {
   "cell_type": "code",
   "execution_count": null,
   "id": "6a6440b8",
   "metadata": {
    "ExecuteTime": {
     "end_time": "2023-01-29T21:08:29.334932Z",
     "start_time": "2023-01-29T21:08:28.900487Z"
    }
   },
   "outputs": [],
   "source": [
    "abide_pearson = np.load(r\"./ABIDE_diagnosis_Pearson_output.npy\")\n",
    "plt.hist(np.log(np.abs(abide_pearson)), 500)\n",
    "plt.show()"
   ]
  },
  {
   "cell_type": "markdown",
   "id": "ba8cd6c2",
   "metadata": {},
   "source": [
    "## Comparing two ranking with Kendall's $\\tau$\n",
    "\n",
    "The results show that the two ranking by mutual information and Pearson's correlation vary greatly by Kendall's tau -- I also tried the Pearson's correlation between two ranking (not that I should do this) and the correlation is also very small.\n",
    "\n",
    "**So in summary, the two ranking vary greatly.**"
   ]
  },
  {
   "cell_type": "code",
   "execution_count": null,
   "id": "05d1f6d7",
   "metadata": {
    "ExecuteTime": {
     "end_time": "2023-01-29T21:08:29.582943Z",
     "start_time": "2023-01-29T21:08:29.336252Z"
    }
   },
   "outputs": [],
   "source": [
    "plt.scatter(np.log(abide_mi), abide_pearson, s=10,\n",
    "            alpha=.2)  # s is the dot size\n",
    "plt.show()\n",
    "# keep this, add different selections\n",
    "# PREDICT AGE"
   ]
  },
  {
   "cell_type": "code",
   "execution_count": null,
   "id": "31f92ad7",
   "metadata": {
    "ExecuteTime": {
     "end_time": "2023-01-29T21:08:32.746714Z",
     "start_time": "2023-01-29T21:08:32.525826Z"
    }
   },
   "outputs": [],
   "source": [
    "print(\"Kendall's tau: \\n\",\n",
    "      kendalltau(rankdata(-abide_mi), rankdata(-np.abs(abide_pearson))))\n",
    "print(\"Pearson's correlation: \\n\",\n",
    "      np.corrcoef(rankdata(-abide_mi), rankdata(-np.abs(abide_pearson))))"
   ]
  },
  {
   "cell_type": "markdown",
   "id": "4447fa79",
   "metadata": {},
   "source": [
    "# Try Fitting models to predict age, $5$-fold CV\n",
    "## this is just a code block for mutual information screening with `ElasticNetCV` -- for Pearson and for other methods, simply replace certain parts of the code -- the detailed changed are to be found at the Python scripts in `ABIDE_predict_age` directory\n",
    "## this block of code only means to be run on Compute Canada"
   ]
  },
  {
   "cell_type": "code",
   "execution_count": null,
   "id": "b5cb6b81",
   "metadata": {
    "ExecuteTime": {
     "end_time": "2023-02-01T17:09:31.033226Z",
     "start_time": "2023-02-01T17:09:31.008216Z"
    }
   },
   "outputs": [],
   "source": [
    "import numpy as np\n",
    "import pandas as pd\n",
    "from dask import dataframe as dd\n",
    "import matplotlib.pyplot as plt\n",
    "from scipy.stats import kendalltau\n",
    "from scipy.stats import rankdata\n",
    "import fastHDMI as mi\n",
    "from sklearn.linear_model import LassoCV\n",
    "from sklearn.linear_model import ElasticNetCV\n",
    "from sklearn.linear_model import RidgeCV\n",
    "from sklearn.metrics import r2_score\n",
    "import multiprocess as mp\n",
    "from tqdm import tqdm\n",
    "\n",
    "csv_file = r\"/home/kyang/projects/def-cgreenwo/abide_data/abide_fs60_vout_fwhm0_lh_SubjectIDFormatted_N1050_nonzero_withSEX.csv\"\n",
    "original_df = pd.read_csv(csv_file, encoding='unicode_escape', engine='c')\n",
    "columns = np.load(r\"./ABIDE_columns.npy\")\n",
    "abide_dep = np.load(r\"./ABIDE_age_MI_output.npy\"\n",
    "                    )  # for Pearson, use ABIDE_age_Pearson_output.npy\n",
    "\n",
    "\n",
    "def testing_error(num_covariates=20,\n",
    "                  training_proportion=.8,\n",
    "                  fun=ElasticNetCV,\n",
    "                  outcome_name=\"AGE_AT_SCAN\",\n",
    "                  seed=1):\n",
    "    np.random.seed(seed)\n",
    "    _usecols = np.hstack((outcome_name, \"SEX\", \"DX_GROUP\",\n",
    "                          columns[np.argsort(-abide_dep)][:num_covariates]))\n",
    "    df = original_df[_usecols].dropna(inplace=False).sample(\n",
    "        frac=1, random_state=seed, replace=False).reset_index(drop=True,\n",
    "                                                              inplace=False)\n",
    "    if df.shape[0] > 20:\n",
    "        train_test_div = int(np.around(df.shape[0] * training_proportion))\n",
    "        X_train, y_train = df.iloc[:train_test_div,\n",
    "                                   1:], df.iloc[:train_test_div, 0]\n",
    "        X_test, y_test = df.iloc[train_test_div:, 1:], df.iloc[train_test_div:,\n",
    "                                                               0]\n",
    "        if fun in [ElasticNetCV, LassoCV]:\n",
    "            fit = fun(cv=5, random_state=seed).fit(X_train, y_train)\n",
    "        elif fun in [RidgeCV]:  # RidgeCV doesn't have seed setting\n",
    "            fit = fun(cv=5).fit(X_train, y_train)\n",
    "        y_pred = fit.predict(X_test)\n",
    "        out = r2_score(y_test, y_pred)\n",
    "    else:\n",
    "        out = np.nan\n",
    "    return out\n",
    "\n",
    "\n",
    "def testing_error_rep(num_covariates=20,\n",
    "                      training_proportion=.8,\n",
    "                      fun=ElasticNetCV,\n",
    "                      outcome_name=\"AGE_AT_SCAN\",\n",
    "                      num_rep=10):\n",
    "    def _testing_error(seed):\n",
    "        return testing_error(num_covariates=num_covariates,\n",
    "                             training_proportion=training_proportion,\n",
    "                             fun=fun,\n",
    "                             outcome_name=outcome_name,\n",
    "                             seed=seed)\n",
    "\n",
    "    seeds = np.arange(num_rep)\n",
    "    return np.array(list(map(_testing_error, seeds)))\n",
    "\n",
    "\n",
    "def testing_error_num_attr(num_attr,\n",
    "                           training_proportion=.8,\n",
    "                           fun=ElasticNetCV,\n",
    "                           outcome_name=\"AGE_AT_SCAN\",\n",
    "                           num_rep=10):\n",
    "    def _testing_error_rep(_num_attr):\n",
    "        return testing_error_rep(num_covariates=_num_attr,\n",
    "                                 training_proportion=training_proportion,\n",
    "                                 fun=fun,\n",
    "                                 outcome_name=outcome_name,\n",
    "                                 num_rep=num_rep)\n",
    "\n",
    "    return np.array(list(map(_testing_error_rep, tqdm(num_attr))))\n",
    "\n",
    "\n",
    "output = testing_error_num_attr(\n",
    "    num_attr=list(\n",
    "        map(int,\n",
    "            np.around(np.linspace(0, len(columns), 50 + 1)[1:]).tolist())\n",
    "    ),  # so here it will screen the number of covariates roughly 30 apart\n",
    "    training_proportion=.8,  # 80/20 training+validation/testing division\n",
    "    fun=ElasticNetCV,  # here it says to use ElasticNetCV\n",
    "    outcome_name=\"AGE_AT_SCAN\",\n",
    "    num_rep=30)\n",
    "np.save(r\"./ABIDE_age_MI_ElasticNetCV\", output)"
   ]
  },
  {
   "cell_type": "markdown",
   "id": "2777df55",
   "metadata": {},
   "source": [
    "# Comparison of Performance\n",
    "## Here is just to show the testing set $R^2$ for Ridge Regression"
   ]
  },
  {
   "cell_type": "code",
   "execution_count": 3,
   "id": "77de1868",
   "metadata": {
    "ExecuteTime": {
     "end_time": "2023-02-01T17:14:02.577206Z",
     "start_time": "2023-02-01T17:14:02.465709Z"
    }
   },
   "outputs": [
    {
     "data": {
      "image/png": "[encoded data removed]",
      "text/plain": [
       "<Figure size 640x480 with 1 Axes>"
      ]
     },
     "metadata": {},
     "output_type": "display_data"
    }
   ],
   "source": [
    "columns = np.load(r\"./ABIDE_predict_age/ABIDE_columns.npy\")\n",
    "ABIDE_age_MI_RidgeCV = np.load(r\"./ABIDE_predict_age/ABIDE_age_MI_RidgeCV.npy\")\n",
    "ABIDE_age_Pearson_RidgeCV = np.load(\n",
    "    r\"./ABIDE_predict_age/ABIDE_age_Pearson_RidgeCV.npy\")\n",
    "num_attr = np.around(np.linspace(\n",
    "    0,\n",
    "    len(columns) / 20, 500 + 1)[1:])  # ADJUST this based on actual settings\n",
    "\n",
    "MI_RidgeCV_mean = np.mean(ABIDE_age_MI_RidgeCV, 1)\n",
    "MI_RidgeCV_std = np.std(ABIDE_age_MI_RidgeCV, 1)\n",
    "Pearson_RidgeCV_mean = np.mean(ABIDE_age_Pearson_RidgeCV, 1)\n",
    "Pearson_RidgeCV_std = np.std(ABIDE_age_Pearson_RidgeCV, 1)\n",
    "\n",
    "plt.plot(num_attr, MI_RidgeCV_mean, label=\"Mutual Information\")\n",
    "plt.fill_between(num_attr,\n",
    "                 (MI_RidgeCV_mean + MI_RidgeCV_std * norm.ppf(0.025)),\n",
    "                 (MI_RidgeCV_mean + MI_RidgeCV_std * norm.ppf(0.975)),\n",
    "                 color='b',\n",
    "                 alpha=.1)\n",
    "plt.plot(num_attr, Pearson_RidgeCV_mean, label=\"Pearson Correlation\")\n",
    "plt.fill_between(\n",
    "    num_attr, (Pearson_RidgeCV_mean + MI_RidgeCV_std * norm.ppf(0.025)),\n",
    "    (Pearson_RidgeCV_mean + Pearson_RidgeCV_std * norm.ppf(0.975)),\n",
    "    color='b',\n",
    "    alpha=.1)\n",
    "plt.legend()\n",
    "plt.show()"
   ]
  },
  {
   "cell_type": "code",
   "execution_count": null,
   "id": "9b4279c6",
   "metadata": {},
   "outputs": [],
   "source": []
  }
 ],
 "metadata": {
  "kernelspec": {
   "display_name": "Python 3 (ipykernel)",
   "language": "python",
   "name": "python3"
  },
  "language_info": {
   "codemirror_mode": {
    "name": "ipython",
    "version": 3
   },
   "file_extension": ".py",
   "mimetype": "text/x-python",
   "name": "python",
   "nbconvert_exporter": "python",
   "pygments_lexer": "ipython3",
   "version": "3.9.16"
  },
  "latex_envs": {
   "LaTeX_envs_menu_present": true,
   "autoclose": false,
   "autocomplete": true,
   "bibliofile": "biblio.bib",
   "cite_by": "apalike",
   "current_citInitial": 1,
   "eqLabelWithNumbers": true,
   "eqNumInitial": 1,
   "hotkeys": {
    "equation": "Ctrl-E",
    "itemize": "Ctrl-I"
   },
   "labels_anchors": false,
   "latex_user_defs": false,
   "report_style_numbering": false,
   "user_envs_cfg": false
  }
 },
 "nbformat": 4,
 "nbformat_minor": 5
}
