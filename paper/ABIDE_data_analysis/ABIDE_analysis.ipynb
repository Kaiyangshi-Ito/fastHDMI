{
 "cells": [
  {
   "cell_type": "code",
   "execution_count": 1,
   "id": "39eea284-aeec-427b-b3fc-2a35d72a5825",
   "metadata": {
    "ExecuteTime": {
     "end_time": "2023-01-16T03:48:11.355617Z",
     "start_time": "2023-01-16T03:48:10.124102Z"
    }
   },
   "outputs": [],
   "source": [
    "import numpy as np\n",
    "import pandas as pd\n",
    "from dask import dataframe as dd\n",
    "import matplotlib.pyplot as plt\n",
    "import fastHDMI as mi"
   ]
  },
  {
   "cell_type": "markdown",
   "id": "c74af34a",
   "metadata": {},
   "source": [
    "# Calculate MI for ABIDE data (besides sex and age as they will be included regardless)"
   ]
  },
  {
   "cell_type": "code",
   "execution_count": null,
   "id": "ffa723c1-2843-424d-8ee3-90eb39dc843e",
   "metadata": {
    "ExecuteTime": {
     "end_time": "2023-01-05T05:45:17.832538Z",
     "start_time": "2023-01-05T05:45:17.730041Z"
    }
   },
   "outputs": [],
   "source": [
    "csv_file = r\"/home/kyang/projects/def-cgreenwo/abide_data/abide_fs60_vout_fwhm0_lh_SubjectIDFormatted_N1050_nonzero_withSEX.csv\"\n",
    "abide = pd.read_csv(csv_file, encoding='unicode_escape', engine=\"pyarrow\")\n",
    "abide = dd.read_csv(csv_file)\n",
    "\n",
    "_abide_name = abide.columns.tolist()  #[1:]\n",
    "_abide_name = list(abide.columns)  #[1:]\n",
    "\n",
    "print(_abide_name)\n",
    "\n",
    "abide_name = [_abide_name[-1]] + _abide_name[1:-3]\n",
    "# so that the left first column is the outcome and the rest columns are areas\n",
    "\n",
    "mi_output = mi.binary_filter_csv_parallel(csv_file,\n",
    "                                          _usecols=abide_name,\n",
    "                                          csv_engine=\"pyarrow\")\n",
    "np.save(r\"/home/kyang/ABIDE_MI_output\", mi_output)\n",
    "\n",
    "pearson_output = mi.Pearson_filter_csv_parallel(csv_file,\n",
    "                                                _usecols=abide_name,\n",
    "                                                csv_engine=\"pyarrow\")\n",
    "np.save(r\"/home/kyang/ABIDE_Pearson_output\", pearson_output)"
   ]
  },
  {
   "cell_type": "markdown",
   "id": "46ea4ca1-abfd-4856-8f70-63658655173a",
   "metadata": {},
   "source": [
    "# Plots"
   ]
  },
  {
   "cell_type": "code",
   "execution_count": 20,
   "id": "eb054aa1-5485-4ea5-8f0b-5eefadf893ca",
   "metadata": {},
   "outputs": [
    {
     "name": "stdout",
     "output_type": "stream",
     "text": [
      "5\n"
     ]
    },
    {
     "data": {
      "text/plain": [
       "(array([1.000e+00, 0.000e+00, 0.000e+00, 2.000e+00, 0.000e+00, 0.000e+00,\n",
       "        5.000e+00, 4.000e+00, 4.000e+00, 6.000e+00, 1.300e+01, 1.900e+01,\n",
       "        2.100e+01, 2.700e+01, 5.400e+01, 6.600e+01, 9.700e+01, 1.270e+02,\n",
       "        1.800e+02, 2.600e+02, 3.970e+02, 5.140e+02, 6.830e+02, 8.900e+02,\n",
       "        1.212e+03, 1.510e+03, 1.947e+03, 2.388e+03, 3.051e+03, 3.699e+03,\n",
       "        4.505e+03, 5.330e+03, 6.352e+03, 7.117e+03, 8.079e+03, 8.771e+03,\n",
       "        9.513e+03, 9.683e+03, 9.969e+03, 9.622e+03, 9.307e+03, 8.605e+03,\n",
       "        7.562e+03, 6.731e+03, 5.685e+03, 4.537e+03, 3.499e+03, 2.659e+03,\n",
       "        1.883e+03, 1.364e+03, 8.590e+02, 5.010e+02, 3.070e+02, 1.490e+02,\n",
       "        1.000e+02, 3.700e+01, 1.300e+01, 1.100e+01, 7.000e+00, 5.000e+00,\n",
       "        3.000e+00, 0.000e+00, 1.000e+00, 0.000e+00, 1.000e+00, 1.000e+00,\n",
       "        2.000e+00, 1.000e+00, 0.000e+00, 0.000e+00, 0.000e+00, 0.000e+00,\n",
       "        2.000e+00, 0.000e+00, 0.000e+00, 1.000e+00, 0.000e+00, 0.000e+00,\n",
       "        0.000e+00, 1.000e+00, 0.000e+00, 0.000e+00, 1.000e+00, 0.000e+00,\n",
       "        0.000e+00, 0.000e+00, 1.000e+00, 0.000e+00, 0.000e+00, 0.000e+00,\n",
       "        0.000e+00, 0.000e+00, 0.000e+00, 0.000e+00, 0.000e+00, 0.000e+00,\n",
       "        0.000e+00, 0.000e+00, 0.000e+00, 1.000e+00]),\n",
       " array([-8.88654645, -8.80606456, -8.72558268, -8.64510079, -8.5646189 ,\n",
       "        -8.48413701, -8.40365513, -8.32317324, -8.24269135, -8.16220947,\n",
       "        -8.08172758, -8.00124569, -7.9207638 , -7.84028192, -7.75980003,\n",
       "        -7.67931814, -7.59883625, -7.51835437, -7.43787248, -7.35739059,\n",
       "        -7.2769087 , -7.19642682, -7.11594493, -7.03546304, -6.95498115,\n",
       "        -6.87449927, -6.79401738, -6.71353549, -6.6330536 , -6.55257172,\n",
       "        -6.47208983, -6.39160794, -6.31112605, -6.23064417, -6.15016228,\n",
       "        -6.06968039, -5.98919851, -5.90871662, -5.82823473, -5.74775284,\n",
       "        -5.66727096, -5.58678907, -5.50630718, -5.42582529, -5.34534341,\n",
       "        -5.26486152, -5.18437963, -5.10389774, -5.02341586, -4.94293397,\n",
       "        -4.86245208, -4.78197019, -4.70148831, -4.62100642, -4.54052453,\n",
       "        -4.46004264, -4.37956076, -4.29907887, -4.21859698, -4.1381151 ,\n",
       "        -4.05763321, -3.97715132, -3.89666943, -3.81618755, -3.73570566,\n",
       "        -3.65522377, -3.57474188, -3.49426   , -3.41377811, -3.33329622,\n",
       "        -3.25281433, -3.17233245, -3.09185056, -3.01136867, -2.93088678,\n",
       "        -2.8504049 , -2.76992301, -2.68944112, -2.60895923, -2.52847735,\n",
       "        -2.44799546, -2.36751357, -2.28703168, -2.2065498 , -2.12606791,\n",
       "        -2.04558602, -1.96510414, -1.88462225, -1.80414036, -1.72365847,\n",
       "        -1.64317659, -1.5626947 , -1.48221281, -1.40173092, -1.32124904,\n",
       "        -1.24076715, -1.16028526, -1.07980337, -0.99932149, -0.9188396 ,\n",
       "        -0.83835771]),\n",
       " <BarContainer object of 100 artists>)"
      ]
     },
     "execution_count": 20,
     "metadata": {},
     "output_type": "execute_result"
    },
    {
     "data": {
      "image/png": "[encoded data removed]",
      "text/plain": [
       "<Figure size 640x480 with 1 Axes>"
      ]
     },
     "metadata": {},
     "output_type": "display_data"
    }
   ],
   "source": [
    "abide_mi = np.load(r\"./ABIDE_MI_output.npy\")\n",
    "print(np.sum(abide_mi > .05))\n",
    "plt.hist(np.log(abide_mi), 100)"
   ]
  },
  {
   "cell_type": "code",
   "execution_count": null,
   "id": "58f1a09a-45cf-46a3-be42-9f9394ee4f96",
   "metadata": {},
   "outputs": [],
   "source": []
  }
 ],
 "metadata": {
  "kernelspec": {
   "display_name": "Python 3 (ipykernel)",
   "language": "python",
   "name": "python3"
  },
  "language_info": {
   "codemirror_mode": {
    "name": "ipython",
    "version": 3
   },
   "file_extension": ".py",
   "mimetype": "text/x-python",
   "name": "python",
   "nbconvert_exporter": "python",
   "pygments_lexer": "ipython3",
   "version": "3.9.15"
  },
  "latex_envs": {
   "LaTeX_envs_menu_present": true,
   "autoclose": false,
   "autocomplete": true,
   "bibliofile": "biblio.bib",
   "cite_by": "apalike",
   "current_citInitial": 1,
   "eqLabelWithNumbers": true,
   "eqNumInitial": 1,
   "hotkeys": {
    "equation": "Ctrl-E",
    "itemize": "Ctrl-I"
   },
   "labels_anchors": false,
   "latex_user_defs": false,
   "report_style_numbering": false,
   "user_envs_cfg": false
  }
 },
 "nbformat": 4,
 "nbformat_minor": 5
}
