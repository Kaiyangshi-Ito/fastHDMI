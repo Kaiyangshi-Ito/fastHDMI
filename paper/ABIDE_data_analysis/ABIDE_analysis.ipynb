{
 "cells": [
  {
   "cell_type": "code",
   "execution_count": null,
   "id": "39eea284-aeec-427b-b3fc-2a35d72a5825",
   "metadata": {
    "ExecuteTime": {
     "end_time": "2023-01-21T07:08:29.840151Z",
     "start_time": "2023-01-21T07:08:28.624273Z"
    }
   },
   "outputs": [],
   "source": [
    "import numpy as np\n",
    "import pandas as pd\n",
    "from dask import dataframe as dd\n",
    "import matplotlib.pyplot as plt\n",
    "from scipy.stats import kendalltau\n",
    "from scipy.stats import rankdata\n",
    "import fastHDMI as mi"
   ]
  },
  {
   "cell_type": "markdown",
   "id": "c74af34a",
   "metadata": {},
   "source": [
    "# Calculate MI for ABIDE data\n",
    "# Calculation for age\n",
    "## this block is only to be run on Compute Canada"
   ]
  },
  {
   "cell_type": "code",
   "execution_count": null,
   "id": "ffa723c1-2843-424d-8ee3-90eb39dc843e",
   "metadata": {
    "ExecuteTime": {
     "end_time": "2023-01-16T20:00:25.218293Z",
     "start_time": "2023-01-16T20:00:25.107337Z"
    }
   },
   "outputs": [],
   "source": [
    "csv_file = r\"/home/kyang/projects/def-cgreenwo/abide_data/abide_fs60_vout_fwhm0_lh_SubjectIDFormatted_N1050_nonzero_withSEX.csv\"\n",
    "# abide = pd.read_csv(csv_file, encoding='unicode_escape', engine=\"c\")\n",
    "abide = dd.read_csv(csv_file, sample=1250000)\n",
    "\n",
    "# _abide_name = abide.columns.tolist()[1:]\n",
    "_abide_name = list(abide.columns)[1:]\n",
    "\n",
    "# print(_abide_name)\n",
    "\n",
    "# we don't inlcude age and sex in the screening since they should always be included in the model\n",
    "abide_name = [_abide_name[-3]] + _abide_name[1:-3]\n",
    "\n",
    "np.save(r\"/home/kyang/ABIDE_columns\", _abide_name[1:-3])\n",
    "\n",
    "# so that the left first column is the outcome and the rest columns are areas\n",
    "\n",
    "mi_output = mi.continuous_filter_csv_parallel(csv_file,\n",
    "                                              _usecols=abide_name,\n",
    "                                              csv_engine=\"c\",\n",
    "                                              sample=1250000)\n",
    "np.save(r\"/home/kyang/ABIDE_age_MI_output\", mi_output)\n",
    "\n",
    "pearson_output = mi.Pearson_filter_csv_parallel(csv_file,\n",
    "                                                _usecols=abide_name,\n",
    "                                                csv_engine=\"c\",\n",
    "                                                sample=1250000)\n",
    "np.save(r\"/home/kyang/ABIDE_age_Pearson_output\", pearson_output)"
   ]
  },
  {
   "cell_type": "markdown",
   "id": "46ea4ca1-abfd-4856-8f70-63658655173a",
   "metadata": {},
   "source": [
    "# Plots"
   ]
  },
  {
   "cell_type": "code",
   "execution_count": null,
   "id": "eb054aa1-5485-4ea5-8f0b-5eefadf893ca",
   "metadata": {
    "ExecuteTime": {
     "end_time": "2023-01-21T07:08:33.846615Z",
     "start_time": "2023-01-21T07:08:33.155432Z"
    }
   },
   "outputs": [],
   "source": [
    "abide_mi = np.load(r\"./ABIDE_age_MI_output.npy\")\n",
    "plt.hist(np.log(abide_mi), 500)\n",
    "plt.show()"
   ]
  },
  {
   "cell_type": "code",
   "execution_count": null,
   "id": "58f1a09a-45cf-46a3-be42-9f9394ee4f96",
   "metadata": {
    "ExecuteTime": {
     "end_time": "2023-01-21T07:08:34.340893Z",
     "start_time": "2023-01-21T07:08:33.847837Z"
    }
   },
   "outputs": [],
   "source": [
    "abide_pearson = np.load(r\"./ABIDE_age_Pearson_output.npy\")\n",
    "plt.hist(np.log(np.abs(abide_pearson)), 500)\n",
    "plt.show()"
   ]
  },
  {
   "cell_type": "markdown",
   "id": "b25d3fa0",
   "metadata": {},
   "source": [
    "## Comparing two ranking with Kendall's $\\tau$\n",
    "\n",
    "The results show that the two ranking by mutual information and Pearson's correlation vary greatly by Kendall's tau -- I also tried the Pearson's correlation between two ranking (not that I should do this) and the correlation is also very small.\n",
    "\n",
    "**So in summary, the two ranking vary greatly.**"
   ]
  },
  {
   "cell_type": "code",
   "execution_count": null,
   "id": "742260a9",
   "metadata": {
    "ExecuteTime": {
     "end_time": "2023-01-21T07:08:40.428211Z",
     "start_time": "2023-01-21T07:08:40.126555Z"
    }
   },
   "outputs": [],
   "source": [
    "plt.plot(np.log(abide_mi), abide_pearson, 'o')\n",
    "plt.show()\n",
    "# keep this, add different selections\n",
    "# PREDICT AGE"
   ]
  },
  {
   "cell_type": "code",
   "execution_count": null,
   "id": "4e78ee74",
   "metadata": {
    "ExecuteTime": {
     "end_time": "2023-01-21T07:10:18.039843Z",
     "start_time": "2023-01-21T07:10:17.830036Z"
    }
   },
   "outputs": [],
   "source": [
    "print(\"Kendall's tau: \\n\",\n",
    "      kendalltau(rankdata(-abide_mi), rankdata(-np.abs(abide_pearson))))\n",
    "print(\"Pearson's correlation: \\n\",\n",
    "      np.corrcoef(rankdata(-abide_mi), rankdata(-np.abs(abide_pearson))))"
   ]
  },
  {
   "cell_type": "markdown",
   "id": "8afd4dbe",
   "metadata": {},
   "source": [
    "# Calculate MI for ABIDE data\n",
    "# Calculation for diagnosis outcome\n",
    "## this block is only to be run on Compute Canada"
   ]
  },
  {
   "cell_type": "code",
   "execution_count": null,
   "id": "d9c3680c",
   "metadata": {
    "ExecuteTime": {
     "end_time": "2023-01-20T04:56:33.182030Z",
     "start_time": "2023-01-20T04:56:32.928624Z"
    }
   },
   "outputs": [],
   "source": [
    "csv_file = r\"/home/kyang/projects/def-cgreenwo/abide_data/abide_fs60_vout_fwhm0_lh_SubjectIDFormatted_N1050_nonzero_withSEX.csv\"\n",
    "# abide = pd.read_csv(csv_file, encoding='unicode_escape', engine=\"c\")\n",
    "abide = dd.read_csv(csv_file, sample=1250000)\n",
    "\n",
    "# _abide_name = abide.columns.tolist()[1:]\n",
    "_abide_name = list(abide.columns)[1:]\n",
    "\n",
    "# print(_abide_name)\n",
    "\n",
    "# we don't inlcude age and sex in the screening since they should always be included in the model\n",
    "abide_name = [_abide_name[-1]] + _abide_name[1:-3]\n",
    "# so that the left first column is the outcome and the rest columns are areas\n",
    "\n",
    "mi_output = mi.binary_filter_csv_parallel(csv_file,\n",
    "                                          _usecols=abide_name,\n",
    "                                          csv_engine=\"c\",\n",
    "                                          sample=1250000)\n",
    "np.save(r\"/home/kyang/ABIDE_diagnosis_MI_output\", mi_output)\n",
    "\n",
    "pearson_output = mi.Pearson_filter_csv_parallel(csv_file,\n",
    "                                                _usecols=abide_name,\n",
    "                                                csv_engine=\"c\",\n",
    "                                                sample=1250000)\n",
    "np.save(r\"/home/kyang/ABIDE_diagnosis_Pearson_output\", pearson_output)"
   ]
  },
  {
   "cell_type": "markdown",
   "id": "c2de0251",
   "metadata": {},
   "source": [
    "# Plots"
   ]
  },
  {
   "cell_type": "code",
   "execution_count": null,
   "id": "5230b75d",
   "metadata": {
    "ExecuteTime": {
     "end_time": "2023-01-20T04:56:51.085995Z",
     "start_time": "2023-01-20T04:56:50.383594Z"
    }
   },
   "outputs": [],
   "source": [
    "abide_mi = np.load(r\"./ABIDE_diagnosis_MI_output.npy\")\n",
    "plt.hist(np.log(abide_mi), 500)\n",
    "plt.show()"
   ]
  },
  {
   "cell_type": "code",
   "execution_count": null,
   "id": "6a6440b8",
   "metadata": {
    "ExecuteTime": {
     "end_time": "2023-01-20T04:56:51.592019Z",
     "start_time": "2023-01-20T04:56:51.087400Z"
    }
   },
   "outputs": [],
   "source": [
    "abide_pearson = np.load(r\"./ABIDE_diagnosis_Pearson_output.npy\")\n",
    "plt.hist(np.log(np.abs(abide_pearson)), 500)\n",
    "plt.show()"
   ]
  },
  {
   "cell_type": "markdown",
   "id": "ba8cd6c2",
   "metadata": {},
   "source": [
    "## Comparing two ranking with Kendall's $\\tau$\n",
    "\n",
    "The results show that the two ranking by mutual information and Pearson's correlation vary greatly by Kendall's tau -- I also tried the Pearson's correlation between two ranking (not that I should do this) and the correlation is also very small.\n",
    "\n",
    "**So in summary, the two ranking vary greatly.**"
   ]
  },
  {
   "cell_type": "code",
   "execution_count": null,
   "id": "05d1f6d7",
   "metadata": {
    "ExecuteTime": {
     "end_time": "2023-01-20T04:56:53.706007Z",
     "start_time": "2023-01-20T04:56:53.348789Z"
    }
   },
   "outputs": [],
   "source": [
    "plt.plot(np.log(abide_mi), abide_pearson, 'o')\n",
    "plt.show()\n",
    "# keep this, add different selections\n",
    "# PREDICT AGE"
   ]
  },
  {
   "cell_type": "code",
   "execution_count": null,
   "id": "31f92ad7",
   "metadata": {
    "ExecuteTime": {
     "end_time": "2023-01-20T04:56:53.912233Z",
     "start_time": "2023-01-20T04:56:53.779789Z"
    }
   },
   "outputs": [],
   "source": [
    "print(\"Kendall's tau: \\n\",\n",
    "      kendalltau(rankdata(-abide_mi), rankdata(-np.abs(abide_pearson))))\n",
    "print(\"Pearson's correlation: \\n\",\n",
    "      np.corrcoef(rankdata(-abide_mi), rankdata(-np.abs(abide_pearson))))"
   ]
  },
  {
   "cell_type": "code",
   "execution_count": null,
   "id": "e733727e",
   "metadata": {},
   "outputs": [],
   "source": []
  }
 ],
 "metadata": {
  "kernelspec": {
   "display_name": "Python 3 (ipykernel)",
   "language": "python",
   "name": "python3"
  },
  "language_info": {
   "codemirror_mode": {
    "name": "ipython",
    "version": 3
   },
   "file_extension": ".py",
   "mimetype": "text/x-python",
   "name": "python",
   "nbconvert_exporter": "python",
   "pygments_lexer": "ipython3",
   "version": "3.9.13"
  },
  "latex_envs": {
   "LaTeX_envs_menu_present": true,
   "autoclose": false,
   "autocomplete": true,
   "bibliofile": "biblio.bib",
   "cite_by": "apalike",
   "current_citInitial": 1,
   "eqLabelWithNumbers": true,
   "eqNumInitial": 1,
   "hotkeys": {
    "equation": "Ctrl-E",
    "itemize": "Ctrl-I"
   },
   "labels_anchors": false,
   "latex_user_defs": false,
   "report_style_numbering": false,
   "user_envs_cfg": false
  }
 },
 "nbformat": 4,
 "nbformat_minor": 5
}
