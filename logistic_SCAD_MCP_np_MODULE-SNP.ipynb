{
 "cells": [
  {
   "cell_type": "markdown",
   "metadata": {},
   "source": [
    "# Set up the class fundementals "
   ]
  },
  {
   "cell_type": "code",
   "execution_count": 1,
   "metadata": {
    "ExecuteTime": {
     "end_time": "2022-07-18T02:52:19.776705Z",
     "start_time": "2022-07-18T02:52:19.036240Z"
    }
   },
   "outputs": [
    {
     "ename": "ModuleNotFoundError",
     "evalue": "No module named 'bed_reader'",
     "output_type": "error",
     "traceback": [
      "\u001b[0;31m---------------------------------------------------------------------------\u001b[0m",
      "\u001b[0;31mModuleNotFoundError\u001b[0m                       Traceback (most recent call last)",
      "Input \u001b[0;32mIn [1]\u001b[0m, in \u001b[0;36m<cell line: 14>\u001b[0;34m()\u001b[0m\n\u001b[1;32m      4\u001b[0m \u001b[38;5;66;03m# import matplotlib.markers as markers\u001b[39;00m\n\u001b[1;32m      5\u001b[0m \u001b[38;5;66;03m# import matplotlib.pyplot as plt\u001b[39;00m\n\u001b[1;32m      6\u001b[0m \u001b[38;5;66;03m# import timeit\u001b[39;00m\n\u001b[0;32m   (...)\u001b[0m\n\u001b[1;32m     11\u001b[0m \u001b[38;5;66;03m# import cProfile\u001b[39;00m\n\u001b[1;32m     12\u001b[0m \u001b[38;5;66;03m# import itertools\u001b[39;00m\n\u001b[1;32m     13\u001b[0m \u001b[38;5;28;01mfrom\u001b[39;00m \u001b[38;5;21;01mnumba\u001b[39;00m \u001b[38;5;28;01mimport\u001b[39;00m jit, njit\n\u001b[0;32m---> 14\u001b[0m \u001b[38;5;28;01mfrom\u001b[39;00m \u001b[38;5;21;01mbed_reader\u001b[39;00m \u001b[38;5;28;01mimport\u001b[39;00m open_bed\n",
      "\u001b[0;31mModuleNotFoundError\u001b[0m: No module named 'bed_reader'"
     ]
    }
   ],
   "source": [
    "# import os, sys\n",
    "# import collections\n",
    "import numpy as np\n",
    "# import matplotlib.markers as markers\n",
    "# import matplotlib.pyplot as plt\n",
    "# import timeit\n",
    "# import collections\n",
    "# from scipy.linalg import toeplitz, block_diag\n",
    "# from scipy.stats import median_abs_deviation as mad\n",
    "# import multiprocessing\n",
    "# import cProfile\n",
    "# import itertools\n",
    "from numba import jit, njit\n",
    "from bed_reader import open_bed\n",
    "# import warnings\n",
    "# warnings.filterwarnings('ignore') # this is just to hide all the warnings\n",
    "# import rpy2.robjects as robjects\n",
    "# import matplotlib.pyplot as plt # change font globally to Times \n",
    "# plt.style.use('ggplot')\n",
    "# plt.rcParams.update({\n",
    "#     \"text.usetex\": True,\n",
    "#     \"font.family\": \"Times New Roman\",\n",
    "#     \"font.sans-serif\": [\"Times New Roman\"],\n",
    "#     \"font.size\": 12})\n",
    "\n",
    "# os.chdir(sys.path[0]) # ensure working direcotry is set same as the file"
   ]
  },
  {
   "cell_type": "code",
   "execution_count": 2,
   "metadata": {
    "ExecuteTime": {
     "end_time": "2022-07-15T17:52:29.745178Z",
     "start_time": "2022-07-15T17:52:29.418959Z"
    }
   },
   "outputs": [],
   "source": [
    "######################################  some SCAD and MCP things  #######################################\n",
    "@jit(nopython=True, cache=True, parallel=True, fastmath=True, nogil=True)\n",
    "def soft_thresholding(x, lambda_):\n",
    "    '''\n",
    "    To calculate soft-thresholding mapping of a given ONE-DIMENSIONAL tensor, BESIDES THE FIRST TERM (so beta_0 will not be penalized). \n",
    "    This function is to be used for calculation involving L1 penalty term later. \n",
    "    '''\n",
    "    return np.hstack((np.array([x[0]]), np.where(np.abs(x[1:])>lambda_, x[1:] - np.sign(x[1:])*lambda_, 0)))\n",
    "\n",
    "soft_thresholding(np.random.rand(20),3.1)\n",
    "\n",
    "@jit(nopython=True, cache=True, parallel=True, fastmath=True, nogil=True)\n",
    "def SCAD(x, lambda_, a=3.7):\n",
    "    '''\n",
    "    To calculate SCAD penalty value;\n",
    "    #x can be a multi-dimensional tensor;\n",
    "    lambda_, a are scalars;\n",
    "    Fan and Li suggests to take a as 3.7 \n",
    "    '''\n",
    "    # here I notice the function is de facto a function of absolute value of x, therefore take absolute value first to simplify calculation \n",
    "    x = np.abs(x)\n",
    "    temp = np.where(x<=lambda_, lambda_*x, np.where(x<a*lambda_, (2*a*lambda_*x - x**2 - lambda_**2)/(2*(a - 1)), lambda_**2 * (a+1)/2))\n",
    "    temp[0] = 0. # this is to NOT penalize intercept beta later \n",
    "    return temp \n",
    "\n",
    "@jit(nopython=True, cache=True, parallel=True, fastmath=True, nogil=True)\n",
    "def SCAD_grad(x, lambda_, a=3.7):\n",
    "    '''\n",
    "    To calculate the gradient of SCAD wrt. input x; \n",
    "    #x can be a multi-dimensional tensor. \n",
    "    '''\n",
    "    # here decompose x to sign and its absolute value for easier calculation\n",
    "    sgn = np.sign(x)\n",
    "    x = np.abs(x)\n",
    "    temp = np.where(x<=lambda_, lambda_*sgn, np.where(x<a*lambda_, (a*lambda_*sgn-sgn*x)/(a-1), 0))\n",
    "    temp[0] = 0. # this is to NOT penalize intercept beta later \n",
    "    return temp \n",
    "\n",
    "@jit(nopython=True, cache=True, parallel=True, fastmath=True, nogil=True)\n",
    "def MCP(x, lambda_, gamma):\n",
    "    '''\n",
    "    To calculate MCP penalty value; \n",
    "    #x can be a multi-dimensional tensor. \n",
    "    '''\n",
    "    # the function is a function of absolute value of x \n",
    "    x = np.abs(x)\n",
    "    temp = np.where(x<=gamma*lambda_, lambda_*x - x**2/(2*gamma), .5*gamma*lambda_**2)\n",
    "    temp[0] = 0. # this is to NOT penalize intercept beta later \n",
    "    return temp \n",
    "\n",
    "@jit(nopython=True, cache=True, parallel=True, fastmath=True, nogil=True)\n",
    "def MCP_grad(x, lambda_, gamma):\n",
    "    '''\n",
    "    To calculate MCP gradient wrt. input x; \n",
    "    #x can be a multi-dimensional tensor. \n",
    "    '''\n",
    "    temp = np.where(np.abs(x)<gamma*lambda_, lambda_*np.sign(x)-x/gamma, np.zeros_like(x))\n",
    "    temp[0] = 0. # this is to NOT penalize intercept beta later \n",
    "    return temp \n",
    "\n",
    "@jit(nopython=True, cache=True, parallel=True, fastmath=True, nogil=True)\n",
    "def SCAD_concave(x, lambda_, a=3.7):\n",
    "    '''\n",
    "    The value of concave part of SCAD penalty; \n",
    "    #x can be a multi-dimensional tensor. \n",
    "    '''\n",
    "    x = np.abs(x)\n",
    "    temp = np.where(x<=lambda_, 0., np.where(x<a*lambda_, (lambda_*x - (x**2 + lambda_**2)/2)/(a-1), (a+1)/2*lambda_**2 - lambda_*x))\n",
    "    temp[0] = 0. # this is to NOT penalize intercept beta later \n",
    "    return temp \n",
    "\n",
    "@jit(nopython=True, cache=True, parallel=True, fastmath=True, nogil=True)\n",
    "def SCAD_concave_grad(x, lambda_, a=3.7):\n",
    "    '''\n",
    "    The gradient of concave part of SCAD penalty wrt. input x; \n",
    "    #x can be a multi-dimensional tensor. \n",
    "    '''\n",
    "    sgn = np.sign(x)\n",
    "    x = np.abs(x)\n",
    "    temp = np.where(x<=lambda_, 0., np.where(x<a*lambda_, (lambda_*sgn-sgn*x)/(a-1), -lambda_*sgn))\n",
    "    temp[0] = 0. # this is to NOT penalize intercept beta later \n",
    "    return temp \n",
    "\n",
    "@jit(nopython=True, cache=True, parallel=True, fastmath=True, nogil=True)\n",
    "def MCP_concave(x, lambda_, gamma):\n",
    "    '''\n",
    "    The value of concave part of MCP penalty; \n",
    "    #x can be a multi-dimensional tensor. \n",
    "    '''\n",
    "    # similiar as in MCP\n",
    "    x = np.abs(x)\n",
    "    temp = np.where(x<=gamma*lambda_, -(x**2)/(2*gamma), (gamma*lambda_**2)/2 - lambda_*x)\n",
    "    temp[0] = 0. # this is to NOT penalize intercept beta later \n",
    "    return temp \n",
    "\n",
    "@jit(nopython=True, cache=True, parallel=True, fastmath=True, nogil=True)\n",
    "def MCP_concave_grad(x, lambda_, gamma):\n",
    "    '''\n",
    "    The gradient of concave part of MCP penalty wrt. input x; \n",
    "    #x can be a multi-dimensional tensor. \n",
    "    '''\n",
    "    temp = np.where(np.abs(x) < gamma*lambda_, -x/gamma, -lambda_*np.sign(x))\n",
    "    temp[0] = 0. # this is to NOT penalize intercept beta later \n",
    "    return temp \n"
   ]
  },
  {
   "cell_type": "markdown",
   "metadata": {},
   "source": [
    "# Implementation"
   ]
  },
  {
   "cell_type": "code",
   "execution_count": null,
   "metadata": {},
   "outputs": [],
   "source": [
    "# @jit(nopython=True, cache=True, parallel=True, fastmath=True, nogil=True)\n",
    "def _SNP_update_smooth_grad_convex_logistic(N, SNP_ind, bed, beta_md, y, outcome_iid):\n",
    "    '''\n",
    "    Update the gradient of the smooth convex objective component.\n",
    "    '''\n",
    "    p=len(list(bed.sid))\n",
    "    gene_iid = np.array(list(bed.iid))\n",
    "    _y = y[np.intersect1d(outcome_iid, gene_iid, assume_unique=True, return_indices=True)[1]]\n",
    "    gene_ind = np.intersect1d(gene_iid, outcome_iid, assume_unique=True, return_indices=True)[1]\n",
    "    # first calcualte _=X@beta_md-y\n",
    "    _ = np.zeros(N)\n",
    "    for j in SNP_ind:\n",
    "        _X = bed.read(np.s_[:,j], dtype=np.int8).flatten()\n",
    "        _X = _X[gene_ind] # get gene iid also in outcome iid\n",
    "        _ += _X*beta_md[j]\n",
    "    _ = np.tanh(_/2.)/2.-y+.5\n",
    "    # then calculate output\n",
    "    _XTXbeta = np.zeros(p)\n",
    "    for j in SNP_ind:\n",
    "        _X = bed.read(np.s_[:,j], dtype=np.int8).flatten()\n",
    "        _X = _X[gene_ind] # get gene iid also in outcome iid\n",
    "        _XTXbeta[j] = _X@_\n",
    "    del _\n",
    "    return _XTXbeta/(2.*N)\n",
    "\n",
    "# @jit(nopython=True, cache=True, parallel=True, fastmath=True, nogil=True)\n",
    "def _SNP_update_smooth_grad_SCAD_logistic(N, SNP_ind, bed, beta_md, y, outcome_iid, _lambda, a):\n",
    "    '''\n",
    "    Update the gradient of the smooth objective component for SCAD penalty.\n",
    "    '''\n",
    "    return _SNP_update_smooth_grad_convex_logistic(N=N, SNP_ind=SNP_ind, bed=bed, beta_md=beta_md, y=y, outcome_iid) + SCAD_concave_grad(x=beta_md, lambda_=_lambda, a=a)\n",
    "\n",
    "# @jit(nopython=True, cache=True, parallel=True, fastmath=True, nogil=True)\n",
    "def _SNP_update_smooth_grad_MCP_logistic(N, SNP_ind, bed, beta_md, y, outcome_iid, _lambda, gamma):\n",
    "    '''\n",
    "    Update the gradient of the smooth objective component for MCP penalty.\n",
    "    '''\n",
    "    return _SNP_update_smooth_grad_convex_logistic(N=N, SNP_ind=SNP_ind, bed=bed, beta_md=beta_md, y=y, outcome_iid) + MCP_concave_grad(x=beta_md, lambda_=_lambda, gamma=gamma)\n",
    "\n",
    "\n",
    "# @jit(nopython=True, cache=True, parallel=True, fastmath=True, nogil=True)\n",
    "def _SNP_lambda_max_logistic(bed, y, outcome_iid, N, SNP_ind):\n",
    "    \"\"\"\n",
    "    Calculate the lambda_max, i.e., the minimum lambda to nullify all penalized betas.\n",
    "    \"\"\"\n",
    "#     X_temp = X.copy()\n",
    "#     X_temp = X_temp[:,1:]\n",
    "#     X_temp -= np.mean(X_temp,0).reshape(1,-1)\n",
    "#     X_temp /= np.std(X_temp,0)\n",
    "#     y_temp = y.copy()\n",
    "#     y_temp -= np.mean(y)\n",
    "#     y_temp /= np.std(y)\n",
    "    p = len(list(bed.sid))\n",
    "    gene_iid = np.array(list(bed.iid))\n",
    "    _y = y[np.intersect1d(outcome_iid, gene_iid, assume_unique=True, return_indices=True)[1]]\n",
    "    gene_ind = np.intersect1d(gene_iid, outcome_iid, assume_unique=True, return_indices=True)[1]\n",
    "    _ = np.zeros(p)\n",
    "    for j in SNP_ind:\n",
    "        _X = bed.read(np.s_[:,j], dtype=np.int8).flatten()\n",
    "        _X = _X[gene_ind] # get gene iid also in outcome iid\n",
    "        _[j] = _X@_y\n",
    "\n",
    "    grad_at_0 = _[1:]/N\n",
    "    lambda_max = np.linalg.norm(grad_at_0, ord=np.infty)\n",
    "    return lambda_max\n",
    "\n",
    "\n",
    "\n",
    "# @jit(nopython=True, cache=True, parallel=True, fastmath=True, nogil=True)\n",
    "def SNP_UAG_logistic_SCAD_MCP(bed_file, bim_file, fam_file, outcome, outcome_iid, N, SNP_ind, L_convex, beta_0 = np.ones(1), tol=1e-2, maxit=500, _lambda=.5, penalty=\"SCAD\", a=3.7, gamma=2.):\n",
    "    '''\n",
    "    Carry out the optimization for penalized logistic for a fixed lambda.\n",
    "    '''\n",
    "    bed = open_bed(filepath=bed_file, fam_filepath=fam_file, bim_filepath=bim_file)\n",
    "    y = outcome\n",
    "    p = len(list(bed.sid))\n",
    "    if np.all(beta_0==np.ones(1)):\n",
    "        _ = np.zeros(p)\n",
    "        for j in SNP_ind:\n",
    "            _X = bed.read(np.s_[:,j], dtype=np.int8).flatten()\n",
    "            _X = _X[gene_ind] # get gene iid also in outcome iid\n",
    "        beta = np.sign(_)\n",
    "    else:\n",
    "        beta = beta_0\n",
    "    # passing other parameters\n",
    "    smooth_grad = np.ones(p)\n",
    "    beta_ag = beta.copy()\n",
    "    beta_md = beta.copy()\n",
    "    k = 0\n",
    "    converged = False\n",
    "    opt_alpha = 1.\n",
    "    old_speed_norm = 1.\n",
    "    speed_norm = 1.\n",
    "    restart_k = 0\n",
    "    \n",
    "    if penalty == \"SCAD\":\n",
    "#         L = np.max(np.array([L_convex, 1./(a-1)]))\n",
    "        L = np.linalg.norm(np.array([L_convex, 1./(a-1)]), ord=np.infty)\n",
    "        opt_beta = .99/L\n",
    "        while ((not converged) or (k<3)) and k <= maxit:\n",
    "            k += 1\n",
    "            if old_speed_norm > speed_norm and k - restart_k>=3: # in this case, restart\n",
    "                opt_alpha = 1. # restarting\n",
    "                restart_k = k # restarting\n",
    "            else: # restarting\n",
    "                opt_alpha = 2/(1+(1+4./opt_alpha**2)**.5) #parameter settings based on minimizing Ghadimi and Lan's rate of convergence error upper bound \n",
    "            opt_lambda = opt_beta/opt_alpha #parameter settings based on minimizing Ghadimi and Lan's rate of convergence error upper bound\n",
    "            beta_md_old = beta_md.copy() # restarting\n",
    "            beta_md = (1-opt_alpha)*beta_ag + opt_alpha*beta\n",
    "            old_speed_norm = speed_norm # restarting\n",
    "            speed_norm = np.linalg.norm(beta_md - beta_md_old, ord=2) # restarting\n",
    "            converged = (np.linalg.norm(beta_md - beta_md_old, ord=np.infty) < tol)\n",
    "            smooth_grad = _SNP_update_smooth_grad_SCAD_logistic(N=N, SNP_ind=SNP_ind, bed=bed, beta_md=beta_md, y=y, outcome_iid=outcome_iid, _lambda=_lambda, a=a)\n",
    "            beta = soft_thresholding(x=beta - opt_lambda*smooth_grad, lambda_=opt_lambda*_lambda)\n",
    "            beta_ag = soft_thresholding(x=beta_md - opt_beta*smooth_grad, lambda_=opt_beta*_lambda)\n",
    "#             converged = np.all(np.max(np.abs(beta_md - beta_ag)/opt_beta) < tol).item()\n",
    "#             converged = (np.linalg.norm(beta_md - beta_ag, ord=np.infty) < (tol*opt_beta))\n",
    "    else:\n",
    "#         L = np.max(np.array([L_convex, 1./(gamma)]))\n",
    "        L = np.linalg.norm(np.array([L_convex, 1./(gamma)]), ord=np.infty)\n",
    "        opt_beta = .99/L\n",
    "        while ((not converged) or (k<3)) and k <= maxit:\n",
    "            k += 1\n",
    "            if old_speed_norm > speed_norm and k - restart_k>=3: # in this case, restart\n",
    "                opt_alpha = 1. # restarting\n",
    "                restart_k = k # restarting\n",
    "            else: # restarting\n",
    "                opt_alpha = 2/(1+(1+4./opt_alpha**2)**.5) #parameter settings based on minimizing Ghadimi and Lan's rate of convergence error upper bound \n",
    "            opt_lambda = opt_beta/opt_alpha #parameter settings based on minimizing Ghadimi and Lan's rate of convergence error upper bound\n",
    "            beta_md_old = beta_md.copy() # restarting\n",
    "            beta_md = (1-opt_alpha)*beta_ag + opt_alpha*beta\n",
    "            old_speed_norm = speed_norm # restarting\n",
    "            speed_norm = np.linalg.norm(beta_md - beta_md_old, ord=2) # restarting\n",
    "            converged = (np.linalg.norm(beta_md - beta_md_old, ord=np.infty) < tol)\n",
    "            smooth_grad = _SNP_update_smooth_grad_MCP_logistic(N=N, SNP_ind=SNP_ind, bed=bed, beta_md=beta_md, y=y, outcome_iid=outcome_iid, _lambda=_lambda, gamma=gamma)\n",
    "            beta = soft_thresholding(x=beta - opt_lambda*smooth_grad, lambda_=opt_lambda*_lambda)\n",
    "            beta_ag = soft_thresholding(x=beta_md - opt_beta*smooth_grad, lambda_=opt_beta*_lambda)\n",
    "#             converged = np.all(np.max(np.abs(beta_md - beta_ag)/opt_beta) < tol).item()\n",
    "#             converged = (np.linalg.norm(beta_md - beta_ag, ord=np.infty) < (tol*opt_beta))\n",
    "    return k, beta_md\n",
    "\n",
    "\n",
    "# @jit(nopython=True, cache=True, parallel=True, fastmath=True, nogil=True)\n",
    "def SNP_solution_path_logistic(bed_file, bim_file, fam_file, outcome, lambda_, L_convex, N, SNP_ind, beta_0 = np.ones(1), tol=1e-2, maxit=500, penalty=\"SCAD\", a=3.7, gamma=2.):\n",
    "    '''\n",
    "    Carry out the optimization for the solution path without the strong rule.\n",
    "    '''\n",
    "    bed = open_bed(filepath=bed_file, fam_filepath=fam_file, bim_filepath=bim_file)\n",
    "    p = len(list(bed.sid))\n",
    "    beta_mat = np.zeros((len(lambda_)+1, p))\n",
    "    for j in range(len(lambda_)): \n",
    "        beta_mat[j+1,:] = SNP_UAG_logistic_SCAD_MCP(bed_file=bed_file, bim_file=bim_file, fam_file=fam_file, outcome=outcome, N=N, SNP_ind=SNP_ind, L_convex=L_convex, beta_0 = beta_mat[j,:], tol=tol, maxit=maxit, _lambda=lambda_[j], penalty=penalty, outcome_iid=outcome_iid, a=a, gamma=gamma)[1]\n",
    "    return beta_mat[1:,:]\n",
    "\n"
   ]
  },
  {
   "cell_type": "markdown",
   "metadata": {},
   "source": [
    "# Testing"
   ]
  },
  {
   "cell_type": "code",
   "execution_count": 4,
   "metadata": {
    "ExecuteTime": {
     "end_time": "2022-07-15T17:53:01.767761Z",
     "start_time": "2022-07-15T17:52:29.841108Z"
    }
   },
   "outputs": [
    {
     "name": "stderr",
     "output_type": "stream",
     "text": [
      "C:\\Users\\alphaIto\\AppData\\Local\\Temp\\ipykernel_14872\\1332484228.py:184: NumbaWarning: \u001b[1mCannot cache compiled function \"solution_path_logistic\" as it uses dynamic globals (such as ctypes pointers and large global arrays)\u001b[0m\n",
      "  @jit(nopython=True, cache=True, parallel=True, fastmath=True, nogil=True)\n"
     ]
    }
   ],
   "source": [
    "import matplotlib.markers as markers\n",
    "import matplotlib.pyplot as plt\n",
    "import timeit\n",
    "from scipy.linalg import toeplitz, block_diag\n",
    "\n",
    "\n",
    "# this cell is for profiling the function \n",
    "np.random.seed(0)\n",
    "N = 1000\n",
    "SNR = 5.\n",
    "true_beta = np.array([.5,-.5,.8,-.8]+[0]*2000)\n",
    "X_cov = toeplitz(.5**np.arange(2004))\n",
    "mean = np.zeros(true_beta.shape[0])\n",
    "X = np.random.multivariate_normal(mean, X_cov, N)\n",
    "X -= np.mean(X,0).reshape(1,-1)\n",
    "X /= np.std(X,0)\n",
    "intercept_design_column = np.ones(N).reshape(N, 1)\n",
    "X_sim = np.concatenate((intercept_design_column, X), 1)\n",
    "true_sigma_sim = np.sqrt(true_beta.T@X_cov@true_beta/SNR)\n",
    "true_beta_intercept = np.concatenate((np.array([0.5]), true_beta))\n",
    "signal = X_sim@true_beta_intercept + np.random.normal(0, true_sigma_sim, N)\n",
    "y_sim = np.random.binomial(1, np.tanh(signal/2)/2+.5)\n",
    "\n",
    "fit1 = UAG_logistic_SCAD_MCP(design_matrix=X_sim, outcome=y_sim, tol=1e-2, maxit=500, _lambda=.2, penalty=\"SCAD\", a=3.7, gamma=2.)\n",
    "\n",
    "fit2 = solution_path_logistic(design_matrix=X_sim, outcome=y_sim, tol=1e-2, maxit=500, lambda_=np.linspace(.005,.08,60)[::-1], penalty=\"SCAD\", a=3.7, gamma=2.)"
   ]
  },
  {
   "cell_type": "code",
   "execution_count": 5,
   "metadata": {
    "ExecuteTime": {
     "end_time": "2022-07-15T17:54:06.730237Z",
     "start_time": "2022-07-15T17:53:01.769764Z"
    }
   },
   "outputs": [
    {
     "name": "stdout",
     "output_type": "stream",
     "text": [
      "118 ms ± 4.52 ms per loop (mean ± std. dev. of 7 runs, 10 loops each)\n",
      "6.91 s ± 104 ms per loop (mean ± std. dev. of 7 runs, 1 loop each)\n"
     ]
    }
   ],
   "source": [
    "%timeit UAG_logistic_SCAD_MCP(design_matrix=X_sim, outcome=y_sim, tol=1e-2, maxit=500, _lambda=.2, penalty=\"SCAD\", a=3.7, gamma=2.)\n",
    "%timeit solution_path_logistic(design_matrix=X_sim, outcome=y_sim, tol=1e-2, maxit=500, lambda_=np.linspace(.01,.1,60)[::-1], penalty=\"SCAD\", a=3.7, gamma=2.)"
   ]
  },
  {
   "cell_type": "code",
   "execution_count": 6,
   "metadata": {
    "ExecuteTime": {
     "end_time": "2022-07-15T17:54:06.745238Z",
     "start_time": "2022-07-15T17:54:06.732240Z"
    }
   },
   "outputs": [
    {
     "data": {
      "text/plain": [
       "array([[4.18288649e-01, 0.00000000e+00, 0.00000000e+00, ...,\n",
       "        0.00000000e+00, 0.00000000e+00, 0.00000000e+00],\n",
       "       [4.19652110e-01, 0.00000000e+00, 0.00000000e+00, ...,\n",
       "        0.00000000e+00, 0.00000000e+00, 0.00000000e+00],\n",
       "       [4.20959440e-01, 0.00000000e+00, 0.00000000e+00, ...,\n",
       "        0.00000000e+00, 0.00000000e+00, 0.00000000e+00],\n",
       "       ...,\n",
       "       [4.50533893e-01, 0.00000000e+00, 4.79884573e-02, ...,\n",
       "        0.00000000e+00, 0.00000000e+00, 0.00000000e+00],\n",
       "       [4.51245655e-01, 0.00000000e+00, 5.41205703e-02, ...,\n",
       "        3.57689149e-04, 0.00000000e+00, 0.00000000e+00],\n",
       "       [4.52171425e-01, 0.00000000e+00, 5.98629351e-02, ...,\n",
       "        1.09629533e-03, 0.00000000e+00, 0.00000000e+00]])"
      ]
     },
     "execution_count": 6,
     "metadata": {},
     "output_type": "execute_result"
    }
   ],
   "source": [
    "fit2"
   ]
  },
  {
   "cell_type": "code",
   "execution_count": null,
   "metadata": {},
   "outputs": [],
   "source": []
  }
 ],
 "metadata": {
  "kernelspec": {
   "display_name": "Python 3 (ipykernel)",
   "language": "python",
   "name": "python3"
  },
  "language_info": {
   "codemirror_mode": {
    "name": "ipython",
    "version": 3
   },
   "file_extension": ".py",
   "mimetype": "text/x-python",
   "name": "python",
   "nbconvert_exporter": "python",
   "pygments_lexer": "ipython3",
   "version": "3.9.12"
  },
  "latex_envs": {
   "LaTeX_envs_menu_present": true,
   "autoclose": false,
   "autocomplete": true,
   "bibliofile": "biblio.bib",
   "cite_by": "apalike",
   "current_citInitial": 1,
   "eqLabelWithNumbers": true,
   "eqNumInitial": 1,
   "hotkeys": {
    "equation": "Ctrl-E",
    "itemize": "Ctrl-I"
   },
   "labels_anchors": false,
   "latex_user_defs": false,
   "report_style_numbering": false,
   "user_envs_cfg": false
  },
  "nbTranslate": {
   "displayLangs": [
    "*"
   ],
   "hotkey": "alt-t",
   "langInMainMenu": true,
   "sourceLang": "en",
   "targetLang": "fr",
   "useGoogleTranslate": true
  },
  "toc": {
   "base_numbering": 1,
   "nav_menu": {},
   "number_sections": true,
   "sideBar": true,
   "skip_h1_title": false,
   "title_cell": "Table of Contents",
   "title_sidebar": "Contents",
   "toc_cell": false,
   "toc_position": {},
   "toc_section_display": true,
   "toc_window_display": false
  },
  "varInspector": {
   "cols": {
    "lenName": 16,
    "lenType": 16,
    "lenVar": 40
   },
   "kernels_config": {
    "python": {
     "delete_cmd_postfix": "",
     "delete_cmd_prefix": "del ",
     "library": "var_list.py",
     "varRefreshCmd": "print(var_dic_list())"
    },
    "r": {
     "delete_cmd_postfix": ") ",
     "delete_cmd_prefix": "rm(",
     "library": "var_list.r",
     "varRefreshCmd": "cat(var_dic_list()) "
    }
   },
   "position": {
    "height": "877.844px",
    "left": "2188px",
    "right": "20px",
    "top": "120px",
    "width": "352px"
   },
   "types_to_exclude": [
    "module",
    "function",
    "builtin_function_or_method",
    "instance",
    "_Feature"
   ],
   "window_display": false
  }
 },
 "nbformat": 4,
 "nbformat_minor": 4
}
