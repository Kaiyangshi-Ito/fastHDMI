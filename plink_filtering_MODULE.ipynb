{
 "cells": [
  {
   "cell_type": "code",
   "execution_count": 36,
   "id": "f1cc105c",
   "metadata": {
    "ExecuteTime": {
     "end_time": "2022-07-13T00:44:32.089262Z",
     "start_time": "2022-07-13T00:44:32.002324Z"
    }
   },
   "outputs": [
    {
     "ename": "NameError",
     "evalue": "name 'numba' is not defined",
     "output_type": "error",
     "traceback": [
      "\u001b[0;31m---------------------------------------------------------------------------\u001b[0m",
      "\u001b[0;31mNameError\u001b[0m                                 Traceback (most recent call last)",
      "Input \u001b[0;32mIn [36]\u001b[0m, in \u001b[0;36m<cell line: 19>\u001b[0;34m()\u001b[0m\n\u001b[1;32m     17\u001b[0m \u001b[38;5;28;01mimport\u001b[39;00m \u001b[38;5;21;01mmatplotlib\u001b[39;00m\u001b[38;5;21;01m.\u001b[39;00m\u001b[38;5;21;01mpyplot\u001b[39;00m \u001b[38;5;28;01mas\u001b[39;00m \u001b[38;5;21;01mplt\u001b[39;00m\n\u001b[1;32m     18\u001b[0m \u001b[38;5;28;01mfrom\u001b[39;00m \u001b[38;5;21;01mscipy\u001b[39;00m\u001b[38;5;21;01m.\u001b[39;00m\u001b[38;5;21;01mstats\u001b[39;00m \u001b[38;5;28;01mimport\u001b[39;00m gaussian_kde\n\u001b[0;32m---> 19\u001b[0m \u001b[38;5;28;01mfrom\u001b[39;00m \u001b[38;5;21;01mKDEpy\u001b[39;00m \u001b[38;5;28;01mimport\u001b[39;00m FFTKDE\n\u001b[1;32m     20\u001b[0m \u001b[38;5;66;03m# from pybgen import PyBGEN\u001b[39;00m\n\u001b[1;32m     21\u001b[0m \u001b[38;5;28;01mfrom\u001b[39;00m \u001b[38;5;21;01mmultiprocessing\u001b[39;00m \u001b[38;5;28;01mimport\u001b[39;00m Pool, cpu_count\n",
      "File \u001b[0;32m~/jupyter_py3/lib/python3.8/site-packages/KDEpy/__init__.py:7\u001b[0m, in \u001b[0;36m<module>\u001b[0;34m\u001b[0m\n\u001b[1;32m      5\u001b[0m \u001b[38;5;28;01mfrom\u001b[39;00m \u001b[38;5;21;01mKDEpy\u001b[39;00m\u001b[38;5;21;01m.\u001b[39;00m\u001b[38;5;21;01mNaiveKDE\u001b[39;00m \u001b[38;5;28;01mimport\u001b[39;00m NaiveKDE\n\u001b[1;32m      6\u001b[0m \u001b[38;5;28;01mfrom\u001b[39;00m \u001b[38;5;21;01mKDEpy\u001b[39;00m\u001b[38;5;21;01m.\u001b[39;00m\u001b[38;5;21;01mTreeKDE\u001b[39;00m \u001b[38;5;28;01mimport\u001b[39;00m TreeKDE\n\u001b[0;32m----> 7\u001b[0m \u001b[38;5;28;01mfrom\u001b[39;00m \u001b[38;5;21;01mKDEpy\u001b[39;00m\u001b[38;5;21;01m.\u001b[39;00m\u001b[38;5;21;01mFFTKDE\u001b[39;00m \u001b[38;5;28;01mimport\u001b[39;00m FFTKDE   \n\u001b[1;32m      9\u001b[0m __version__ \u001b[38;5;241m=\u001b[39m \u001b[38;5;124m'\u001b[39m\u001b[38;5;124m0.2\u001b[39m\u001b[38;5;124m'\u001b[39m\n\u001b[1;32m     10\u001b[0m __author__ \u001b[38;5;241m=\u001b[39m \u001b[38;5;124m'\u001b[39m\u001b[38;5;124mtommyod\u001b[39m\u001b[38;5;124m'\u001b[39m\n",
      "File \u001b[0;32m~/jupyter_py3/lib/python3.8/site-packages/KDEpy/FFTKDE.py:10\u001b[0m, in \u001b[0;36m<module>\u001b[0;34m\u001b[0m\n\u001b[1;32m      8\u001b[0m \u001b[38;5;28;01mimport\u001b[39;00m \u001b[38;5;21;01mnumpy\u001b[39;00m \u001b[38;5;28;01mas\u001b[39;00m \u001b[38;5;21;01mnp\u001b[39;00m\n\u001b[1;32m      9\u001b[0m \u001b[38;5;28;01mfrom\u001b[39;00m \u001b[38;5;21;01mKDEpy\u001b[39;00m\u001b[38;5;21;01m.\u001b[39;00m\u001b[38;5;21;01mBaseKDE\u001b[39;00m \u001b[38;5;28;01mimport\u001b[39;00m BaseKDE\n\u001b[0;32m---> 10\u001b[0m \u001b[38;5;28;01mfrom\u001b[39;00m \u001b[38;5;21;01mKDEpy\u001b[39;00m\u001b[38;5;21;01m.\u001b[39;00m\u001b[38;5;21;01mbinning\u001b[39;00m \u001b[38;5;28;01mimport\u001b[39;00m linbin_numpy\n\u001b[1;32m     11\u001b[0m \u001b[38;5;28;01mfrom\u001b[39;00m \u001b[38;5;21;01mscipy\u001b[39;00m\u001b[38;5;21;01m.\u001b[39;00m\u001b[38;5;21;01msignal\u001b[39;00m \u001b[38;5;28;01mimport\u001b[39;00m convolve\n\u001b[1;32m     14\u001b[0m \u001b[38;5;28;01mclass\u001b[39;00m \u001b[38;5;21;01mFFTKDE\u001b[39;00m(BaseKDE):\n",
      "File \u001b[0;32m~/jupyter_py3/lib/python3.8/site-packages/KDEpy/binning.py:197\u001b[0m, in \u001b[0;36m<module>\u001b[0;34m\u001b[0m\n\u001b[1;32m    193\u001b[0m     grid \u001b[38;5;241m=\u001b[39m np\u001b[38;5;241m.\u001b[39mlinspace(min_grid, max_grid, num_points)\n\u001b[1;32m    194\u001b[0m     \u001b[38;5;28;01mreturn\u001b[39;00m grid, result[:\u001b[38;5;241m-\u001b[39m\u001b[38;5;241m1\u001b[39m]\n\u001b[0;32m--> 197\u001b[0m \u001b[38;5;129m@numba\u001b[39m\u001b[38;5;241m.\u001b[39mjit\n\u001b[1;32m    198\u001b[0m \u001b[38;5;28;01mdef\u001b[39;00m \u001b[38;5;21mbinning_weighted\u001b[39m(transformed_data, weights, result):\n\u001b[1;32m    199\u001b[0m     \u001b[38;5;124;03m\"\"\"\u001b[39;00m\n\u001b[1;32m    200\u001b[0m \u001b[38;5;124;03m    Fast binning using Numba.\u001b[39;00m\n\u001b[1;32m    201\u001b[0m \u001b[38;5;124;03m    \"\"\"\u001b[39;00m\n\u001b[1;32m    202\u001b[0m     \u001b[38;5;28;01mfor\u001b[39;00m i \u001b[38;5;129;01min\u001b[39;00m \u001b[38;5;28mrange\u001b[39m(\u001b[38;5;28mlen\u001b[39m(transformed_data)):\n",
      "\u001b[0;31mNameError\u001b[0m: name 'numba' is not defined"
     ]
    }
   ],
   "source": [
    "import numpy as np\n",
    "#from bgen_reader import open_bgen\n",
    "#from os.path import join\n",
    "#from pandas_plink import read_plink1_bin\n",
    "#from pandas_plink import get_data_folder\n",
    "import matplotlib.pyplot as plt\n",
    "#from bgen_reader import open_bgen\n",
    "#from bed_reader import open_bed, sample_file\n",
    "import pandas as pd\n",
    "# import os\n",
    "from pysnptools.distreader import Bgen, DistMemMap\n",
    "from pathlib import Path\n",
    "import numpy as np\n",
    "from bed_reader import open_bed\n",
    "from pysnptools.snpreader import SnpData, SnpMemMap\n",
    "from pysnptools.util import log_in_place\n",
    "import matplotlib.pyplot as plt\n",
    "from scipy.stats import gaussian_kde\n",
    "from KDEpy import FFTKDE\n",
    "# from pybgen import PyBGEN\n",
    "import multiprocessing as mp"
   ]
  },
  {
   "cell_type": "code",
   "execution_count": 37,
   "id": "cdd557a8",
   "metadata": {
    "ExecuteTime": {
     "end_time": "2022-07-13T00:44:41.158921Z",
     "start_time": "2022-07-13T00:44:41.156100Z"
    }
   },
   "outputs": [],
   "source": [
    "import multiprocessing as mp"
   ]
  },
  {
   "cell_type": "code",
   "execution_count": 34,
   "id": "8ce8b66d",
   "metadata": {
    "ExecuteTime": {
     "end_time": "2022-07-13T00:41:31.997327Z",
     "start_time": "2022-07-13T00:41:31.957694Z"
    }
   },
   "outputs": [],
   "source": [
    "def MI_continuous(a, b, a_min, a_max, N=500):\n",
    "    \"\"\"\n",
    "    calculate mutual information between continuous outcome and an SNP variable of 0,1,2\n",
    "    assume no missing data\n",
    "    \"\"\"\n",
    "    # first estimate the pmf\n",
    "    p0 = np.sum(b==0)/len(b)\n",
    "    p1 = np.sum(b==1)/len(b)\n",
    "    p2 = 1.-p0-p1\n",
    "    # estimate cond density\n",
    "    _b0 = (b==0)\n",
    "    if np.sum(_b0)>2: # here proceed to kde only if there are more than 5 data points\n",
    "        y_cond_p0 = FFTKDE(kernel=\"gaussian\", bw=\"silverman\").fit(data=a[_b0])\n",
    "#         y_cond_p0 = gaussian_kde(a[_b0])\n",
    "    else:\n",
    "        y_cond_p0 = np.zeros_like\n",
    "    _b1 = (b==1)\n",
    "    if np.sum(_b1)>2:\n",
    "        y_cond_p1 = FFTKDE(kernel=\"gaussian\", bw=\"silverman\").fit(data=a[_b1])\n",
    "#         y_cond_p1 = gaussian_kde(a[_b1]) # this thing uses Scott's rule instead of Silverman defaulted by FFTKDE and R density\n",
    "    else:\n",
    "        y_cond_p1 = np.zeros_like\n",
    "    _b2 = (b==2)\n",
    "    if np.sum(_b2)>2:\n",
    "        y_cond_p2 = FFTKDE(kernel=\"gaussian\", bw=\"silverman\").fit(data=a[_b2])\n",
    "#         y_cond_p2 = gaussian_kde(a[_b2])\n",
    "    else:\n",
    "        y_cond_p2 = np.zeros_like\n",
    "    joint = np.empty((N,3))\n",
    "    a_temp = np.linspace(a_min, a_max, num=N)\n",
    "    joint[:,0] = y_cond_p0(a_temp)*p0\n",
    "    joint[:,1] = y_cond_p1(a_temp)*p1\n",
    "    joint[:,2] = y_cond_p2(a_temp)*p2\n",
    "    joint[joint<1e-20] = 1e-20 # set a threshold to avoid numerical errors\n",
    "    forward_euler_step = a_temp[1]-a_temp[0]\n",
    "#     print(\"total measure:\", np.sum(joint)*forward_euler_step)\n",
    "    temp_log = np.log(joint)\n",
    "#     temp_log = np.nan_to_num(temp_log, nan = 0)\n",
    "    temp1 = np.log(np.sum(joint, 1))\n",
    "#     temp1 = np.nan_to_num(temp1, nan = 0)\n",
    "    temp_log = temp_log - temp1.reshape(-1,1)\n",
    "    temp2 = np.log(np.sum(joint, 0)*forward_euler_step)\n",
    "#     temp2 = np.nan_to_num(temp2, nan = 0)\n",
    "    temp_log = temp_log - temp2.reshape(1,-1)\n",
    "    # print(fhat_mat * temp_log)\n",
    "    temp_mat = joint * temp_log\n",
    "#     temp_mat = np.nan_to_num(temp_mat, nan=0.) # numerical fix\n",
    "    mi_temp = np.sum(temp_mat)*forward_euler_step\n",
    "    return mi_temp\n",
    "\n",
    "def MI_binary(a, b, a_min, a_max, N=500):\n",
    "    \"\"\"\n",
    "    calculate mutual information between binary outcome and an SNP variable of 0,1,2\n",
    "    assume no missing data\n",
    "    \"\"\"\n",
    "    # first estimate the pmf of SNP\n",
    "    p0 = np.sum(b==0)/len(b)\n",
    "    p1 = np.sum(b==1)/len(b)\n",
    "    p2 = 1.-p0-p1\n",
    "    # estimate pmf of the binary outcome\n",
    "    a_p0 = np.sum(a==0)/len(a)\n",
    "    a_p1 = np.sum(a==1)/len(a)\n",
    "    # estimate cond density\n",
    "    _b0 = (b==0)\n",
    "    if np.sum(_b0)>2: # here proceed to kde only if there are more than 5 data points\n",
    "        y_cond_p0 = lambda x: x*np.sum(a[_b0]==1)/len(a[_b0]) + (1-x)*np.sum(a[_b0]==0)/len(a[_b0])\n",
    "#         y_cond_p0 = gaussian_kde(a[_b0])\n",
    "    else:\n",
    "        y_cond_p0 = np.zeros_like\n",
    "    _b1 = (b==1)\n",
    "    if np.sum(_b1)>2:\n",
    "        y_cond_p1 = lambda x: x*np.sum(a[_b1]==1)/len(a[_b1]) + (1-x)*np.sum(a[_b1]==0)/len(a[_b1])\n",
    "#         y_cond_p1 = gaussian_kde(a[_b1]) # this thing uses Scott's rule instead of Silverman defaulted by FFTKDE and R density\n",
    "    else:\n",
    "        y_cond_p1 = np.zeros_like\n",
    "    _b2 = (b==2)\n",
    "    if np.sum(_b2)>2:\n",
    "        y_cond_p2 = lambda x: x*np.sum(a[_b2]==1)/len(a[_b2]) + (1-x)*np.sum(a[_b2]==0)/len(a[_b2])\n",
    "#         y_cond_p2 = gaussian_kde(a[_b2])\n",
    "    else:\n",
    "        y_cond_p2 = np.zeros_like\n",
    "    joint = np.empty((N,3))\n",
    "    a_temp = np.linspace(a_min, a_max, num=N)\n",
    "    joint[:,0] = y_cond_p0(a_temp)*p0\n",
    "    joint[:,1] = y_cond_p1(a_temp)*p1\n",
    "    joint[:,2] = y_cond_p2(a_temp)*p2\n",
    "    joint[joint<1e-20] = 1e-20 # set a threshold to avoid numerical errors\n",
    "    forward_euler_step = a_temp[1]-a_temp[0]\n",
    "#     print(\"total measure:\", np.sum(joint)*forward_euler_step)\n",
    "    temp_log = np.log(joint)\n",
    "#     temp_log = np.nan_to_num(temp_log, nan = 0)\n",
    "    temp1 = np.log(np.sum(joint, 1))\n",
    "#     temp1 = np.nan_to_num(temp1, nan = 0)\n",
    "    temp_log = temp_log - temp1.reshape(-1,1)\n",
    "    temp2 = np.log(np.sum(joint, 0)*forward_euler_step)\n",
    "#     temp2 = np.nan_to_num(temp2, nan = 0)\n",
    "    temp_log = temp_log - temp2.reshape(1,-1)\n",
    "    # print(fhat_mat * temp_log)\n",
    "    temp_mat = joint * temp_log\n",
    "#     temp_mat = np.nan_to_num(temp_mat, nan=0.) # numerical fix\n",
    "    mi_temp = np.sum(temp_mat)*forward_euler_step\n",
    "    return mi_temp\n",
    "\n",
    "\n",
    "def continuous_filter(bed_file, bim_file, fam_file, outcome, percentile, a_min=100., a_max=250., N=500):\n",
    "    bed1 = open_bed(bed_file,fam_filepath=fam_file, bim_filepath=bim_file)\n",
    "    gene_iid = np.array(list(bed1.iid))\n",
    "    bed1_sid = np.array(list(bed1.sid))\n",
    "    MI_UKBB = np.zeros_like(bed1_sid)\n",
    "    for j in range(len(MI_UKBB)):\n",
    "        _SNP = bed1.read(np.s_[:,j],dtype=np.int8).flatten()\n",
    "        _SNP = _SNP[np.intersect1d(gene_iid, outcome_iid, assume_unique=True, return_indices=True)[1]] # get gene iid also in outcome iid\n",
    "        _outcome = outcome[_SNP != -127] # remove missing SNP in outcome\n",
    "        _SNP = _SNP[_SNP != -127] # remove missing SNP\n",
    "        MI_UKBB[j] = MI_continuous(a=outcome, b=_SNP, a_min = a_min, a_max = a_max, N=N)\n",
    "    _percentile = np.percentile(MI_UKBB, percentile)\n",
    "    return bed1_sid[MI_UKBB > _percentile]\n",
    "\n",
    "def binary_filter(bed_file, bim_file, fam_file, outcome, percentile, prop=.1, a_min=100., a_max=250., N=500):\n",
    "    bed1 = open_bed(bed_file,fam_filepath=fam_file, bim_filepath=bim_file)\n",
    "    gene_iid = np.array(list(bed1.iid))\n",
    "    bed1_sid = np.array(list(bed1.sid))\n",
    "    MI_UKBB = np.zeros_like(bed1_sid)\n",
    "    for j in range(len(MI_UKBB)):\n",
    "        _SNP = bed1.read(np.s_[:,j],dtype=np.int8).flatten()\n",
    "        _SNP = _SNP[np.intersect1d(gene_iid, outcome_iid, assume_unique=True, return_indices=True)[1]] # get gene iid also in outcome iid\n",
    "        _outcome = outcome[_SNP != -127] # remove missing SNP in outcome\n",
    "        _SNP = _SNP[_SNP != -127] # remove missing SNP\n",
    "        MI_UKBB[j] = MI_binary(a=outcome, b=_SNP, a_min = a_min, a_max = a_max, N=N)\n",
    "    _percentile = np.percentile(MI_UKBB, percentile)\n",
    "    return bed1_sid[MI_UKBB > _percentile]\n",
    "\n",
    "\n",
    "def continuous_filter_parallel(bed_file, bim_file, fam_file, outcome, percentile, a_min=100., a_max=250., N=500, chunck_size=60000):\n",
    "    bed1 = open_bed(bed_file,fam_filepath=fam_file, bim_filepath=bim_file)\n",
    "    gene_iid = np.array(list(bed1.iid))\n",
    "    bed1_sid = np.array(list(bed1.sid))\n",
    "    def _continuous_filter_slice(_slice):\n",
    "        _MI_slice = np.zeros_like(_slice)\n",
    "        k = 0\n",
    "        for j in _slice:\n",
    "            _SNP = bed1.read(np.s_[:,j],dtype=np.int8).flatten()\n",
    "            _SNP = _SNP[np.intersect1d(gene_iid, outcome_iid, assume_unique=True, return_indices=True)[1]] # get gene iid also in outcome iid\n",
    "            _outcome = outcome[_SNP != -127] # remove missing SNP in outcome\n",
    "            _SNP = _SNP[_SNP != -127] # remove missing SNP\n",
    "            _MI_slice[k] = MI_continuous(a=outcome, b=_SNP, a_min = a_min, a_max = a_max, N=N)\n",
    "            k += 1\n",
    "        return _MI_slice\n",
    "    # multiprocessing starts here\n",
    "    ind = np.arange(len(gene_iid))\n",
    "    n_slices = np.floor(len(gene_iid)/chunck_size)\n",
    "    with mp.Pool(mp.cpu_count()) as p:\n",
    "        MI_UKBB = p.map(_continuous_filter_slice, np.array_split(ind, n_slices))\n",
    "    MI_UKBB = np.hstack(MI_UKBB)\n",
    "    _percentile = np.percentile(MI_UKBB, percentile)\n",
    "    return bed1_sid[MI_UKBB > _percentile]\n",
    "\n",
    "\n",
    "def binary_filter_parallel(bed_file, bim_file, fam_file, outcome, percentile, a_min=100., a_max=250., N=500, chunck_size=60000):\n",
    "    bed1 = open_bed(bed_file,fam_filepath=fam_file, bim_filepath=bim_file)\n",
    "    gene_iid = np.array(list(bed1.iid))\n",
    "    bed1_sid = np.array(list(bed1.sid))\n",
    "    def _binary_filter_slice(_slice):\n",
    "        _MI_slice = np.zeros_like(_slice)\n",
    "        k = 0\n",
    "        for j in _slice:\n",
    "            _SNP = bed1.read(np.s_[:,j],dtype=np.int8).flatten()\n",
    "            _SNP = _SNP[np.intersect1d(gene_iid, outcome_iid, assume_unique=True, return_indices=True)[1]] # get gene iid also in outcome iid\n",
    "            _outcome = outcome[_SNP != -127] # remove missing SNP in outcome\n",
    "            _SNP = _SNP[_SNP != -127] # remove missing SNP\n",
    "            _MI_slice[k] = MI_binary(a=outcome, b=_SNP, a_min = a_min, a_max = a_max, N=N)\n",
    "            k += 1\n",
    "        return _MI_slice\n",
    "    # multiprocessing starts here\n",
    "    ind = np.arange(len(gene_iid))\n",
    "    n_slices = np.floor(len(gene_iid)/chunck_size)\n",
    "    with mp.Pool(mp.cpu_count()) as p:\n",
    "        MI_UKBB = p.map(_binary_filter_slice, np.array_split(ind, n_slices))\n",
    "    MI_UKBB = np.hstack(MI_UKBB)\n",
    "    _percentile = np.percentile(MI_UKBB, percentile)\n",
    "    return bed1_sid[MI_UKBB > _percentile]\n",
    "\n"
   ]
  },
  {
   "cell_type": "code",
   "execution_count": 3,
   "id": "8a032b1b",
   "metadata": {
    "ExecuteTime": {
     "end_time": "2022-07-13T00:19:00.696553Z",
     "start_time": "2022-07-13T00:18:57.716399Z"
    }
   },
   "outputs": [
    {
     "data": {
      "text/plain": [
       "0.2096182966772172"
      ]
     },
     "execution_count": 3,
     "metadata": {},
     "output_type": "execute_result"
    }
   ],
   "source": [
    "a = np.random.binomial(2,.3, 200)\n",
    "b = np.random.binomial(2,.3, 200)\n",
    "print(MI_binary(a, b, a_min=0., a_max=2., N=500))\n"
   ]
  },
  {
   "cell_type": "code",
   "execution_count": 4,
   "id": "56a634eb",
   "metadata": {
    "ExecuteTime": {
     "end_time": "2022-07-13T00:19:06.596767Z",
     "start_time": "2022-07-13T00:19:03.194116Z"
    }
   },
   "outputs": [
    {
     "name": "stdout",
     "output_type": "stream",
     "text": [
      "[[2]\n",
      " [2]\n",
      " [2]\n",
      " ...\n",
      " [2]\n",
      " [2]\n",
      " [2]]\n",
      "['5983776' '2037422' '5850468' ... '5696481' '5379448' '2921868']\n",
      "19959\n"
     ]
    }
   ],
   "source": [
    "bed_file = r\"/home/kyang/UKBB/genetics/cal/ukb_cal_chr20_v2.bed\"\n",
    "bim_file = r\"/home/kyang/UKBB/genetics/cal/ukb_snp_chr20_v2.bim\"\n",
    "fam_file = r\"/home/kyang/UKBB/genetics/cal/ukb45551_cal_chr20_v2_s488264.fam\"\n",
    "# bed_file = r\"/home/kyang/scratch/merged.bed\"\n",
    "# bim_file = r\"/home/kyang/scratch/merged.bim\"\n",
    "# fam_file = r\"/home/kyang/scratch/merged.fam\"\n",
    "outcome_file = r\"/home/kyang/UKBB/tabular/archive/40663/ukb40663.csv\"\n",
    "fields = [\"eid\", \"50-0.0\"]\n",
    "bed1 = open_bed(bed_file,fam_filepath=fam_file, bim_filepath=bim_file)\n",
    "\n",
    "gene_iid = np.array(list(bed1.iid))\n",
    "bed1_sid = np.array(list(bed1.sid))\n",
    "bed1_val = bed1.read(np.s_[:,0],dtype=np.int8)\n",
    "print(bed1_val)\n",
    "print(gene_iid)\n",
    "print(len(bed1_sid))"
   ]
  },
  {
   "cell_type": "code",
   "execution_count": 5,
   "id": "a6f76355",
   "metadata": {
    "ExecuteTime": {
     "end_time": "2022-07-13T00:24:31.434459Z",
     "start_time": "2022-07-13T00:19:06.599737Z"
    }
   },
   "outputs": [
    {
     "name": "stdout",
     "output_type": "stream",
     "text": [
      "['1000011' '1000026' '1000032' ... '6025082' '6025094' '6025103']\n",
      "['1000011' '1000026' '1000032' ... '6025082' '6025094' '6025103']\n",
      "[164. 158. 166. ... 159. 152. 158.]\n",
      "[   2    2 -127 ...    2    2    2]\n"
     ]
    },
    {
     "data": {
      "image/png": "[encoded data removed]",
      "text/plain": [
       "<Figure size 432x288 with 1 Axes>"
      ]
     },
     "metadata": {
      "needs_background": "light"
     },
     "output_type": "display_data"
    }
   ],
   "source": [
    "# read in outcome data while dropping the missing data\n",
    "height = pd.read_csv(outcome_file, skipinitialspace=True, usecols=fields, encoding= 'unicode_escape').dropna()\n",
    "outcome_iid = list(height.loc[:,\"eid\"])\n",
    "outcome_iid = np.array(list(map(str, outcome_iid)))\n",
    "outcome_iid\n",
    "# this can get sorted intersecting SNP data\n",
    "print(gene_iid[np.intersect1d(gene_iid, outcome_iid, assume_unique=True, return_indices=True)[1]])\n",
    "\n",
    "# this can get sorted intersecting outcome data\n",
    "print(outcome_iid[np.intersect1d(outcome_iid, gene_iid, assume_unique=True, return_indices=True)[1]])\n",
    "_outcome = np.array(list(height.loc[:,\"50-0.0\"]))\n",
    "_outcome = _outcome[np.intersect1d(outcome_iid, gene_iid, assume_unique=True, return_indices=True)[1]]\n",
    "print(_outcome)\n",
    "_SNP = bed1.read(np.s_[:,0],dtype=np.int8).flatten() # 0 is the the index\n",
    "_SNP = _SNP[np.intersect1d(gene_iid, outcome_iid, assume_unique=True, return_indices=True)[1]]\n",
    "print(_SNP)\n",
    "\n",
    "\n",
    "# outcome variable by itself doesn't consist of unknown values because of the dropna step, filter it by SNP missing values\n",
    "_outcome = _outcome[_SNP != -127] # -127 is the missing data for int8 \n",
    "_SNP = _SNP[_SNP != -127]\n",
    "_ = plt.hist(_SNP, bins='auto')\n",
    "plt.show()\n",
    "\n",
    "MI_UKBB = np.zeros(60000)\n",
    "pearson_UKBB = np.zeros(60000)\n",
    "\n",
    "outcome = np.array(list(height.loc[:,\"50-0.0\"]))\n",
    "outcome = outcome[np.intersect1d(outcome_iid, gene_iid, assume_unique=True, return_indices=True)[1]] # get outcome iid also in gene iid\n",
    "\n"
   ]
  },
  {
   "cell_type": "code",
   "execution_count": 38,
   "id": "90493c43",
   "metadata": {
    "ExecuteTime": {
     "end_time": "2022-07-13T00:44:50.813679Z",
     "start_time": "2022-07-13T00:44:48.667764Z"
    }
   },
   "outputs": [
    {
     "ename": "AttributeError",
     "evalue": "Can't pickle local object 'continuous_filter_parallel.<locals>._continuous_filter_slice'",
     "output_type": "error",
     "traceback": [
      "\u001b[0;31m---------------------------------------------------------------------------\u001b[0m",
      "\u001b[0;31mAttributeError\u001b[0m                            Traceback (most recent call last)",
      "Input \u001b[0;32mIn [38]\u001b[0m, in \u001b[0;36m<cell line: 1>\u001b[0;34m()\u001b[0m\n\u001b[0;32m----> 1\u001b[0m \u001b[38;5;28mprint\u001b[39m(\u001b[43mcontinuous_filter_parallel\u001b[49m\u001b[43m(\u001b[49m\u001b[43mbed_file\u001b[49m\u001b[38;5;241;43m=\u001b[39;49m\u001b[43mbed_file\u001b[49m\u001b[43m,\u001b[49m\u001b[43m \u001b[49m\u001b[43mbim_file\u001b[49m\u001b[38;5;241;43m=\u001b[39;49m\u001b[43mbim_file\u001b[49m\u001b[43m,\u001b[49m\u001b[43m \u001b[49m\u001b[43mfam_file\u001b[49m\u001b[38;5;241;43m=\u001b[39;49m\u001b[43mfam_file\u001b[49m\u001b[43m,\u001b[49m\u001b[43m \u001b[49m\u001b[43moutcome\u001b[49m\u001b[38;5;241;43m=\u001b[39;49m\u001b[43moutcome\u001b[49m\u001b[43m,\u001b[49m\u001b[43m \u001b[49m\u001b[43mpercentile\u001b[49m\u001b[38;5;241;43m=\u001b[39;49m\u001b[38;5;241;43m10\u001b[39;49m\u001b[43m,\u001b[49m\u001b[43m \u001b[49m\u001b[43ma_min\u001b[49m\u001b[38;5;241;43m=\u001b[39;49m\u001b[38;5;241;43m100.\u001b[39;49m\u001b[43m,\u001b[49m\u001b[43m \u001b[49m\u001b[43ma_max\u001b[49m\u001b[38;5;241;43m=\u001b[39;49m\u001b[38;5;241;43m250.\u001b[39;49m\u001b[43m,\u001b[49m\u001b[43m \u001b[49m\u001b[43mN\u001b[49m\u001b[38;5;241;43m=\u001b[39;49m\u001b[38;5;241;43m500\u001b[39;49m\u001b[43m,\u001b[49m\u001b[43m \u001b[49m\u001b[43mchunck_size\u001b[49m\u001b[38;5;241;43m=\u001b[39;49m\u001b[38;5;241;43m5000\u001b[39;49m\u001b[43m)\u001b[49m)\n",
      "Input \u001b[0;32mIn [34]\u001b[0m, in \u001b[0;36mcontinuous_filter_parallel\u001b[0;34m(bed_file, bim_file, fam_file, outcome, percentile, a_min, a_max, N, chunck_size)\u001b[0m\n\u001b[1;32m    151\u001b[0m n_slices \u001b[38;5;241m=\u001b[39m np\u001b[38;5;241m.\u001b[39mfloor(\u001b[38;5;28mlen\u001b[39m(gene_iid)\u001b[38;5;241m/\u001b[39mchunck_size)\n\u001b[1;32m    152\u001b[0m \u001b[38;5;28;01mwith\u001b[39;00m Pool(cpu_count()) \u001b[38;5;28;01mas\u001b[39;00m p:\n\u001b[0;32m--> 153\u001b[0m     MI_UKBB \u001b[38;5;241m=\u001b[39m \u001b[43mp\u001b[49m\u001b[38;5;241;43m.\u001b[39;49m\u001b[43mmap\u001b[49m\u001b[43m(\u001b[49m\u001b[43m_continuous_filter_slice\u001b[49m\u001b[43m,\u001b[49m\u001b[43m \u001b[49m\u001b[43mnp\u001b[49m\u001b[38;5;241;43m.\u001b[39;49m\u001b[43marray_split\u001b[49m\u001b[43m(\u001b[49m\u001b[43mind\u001b[49m\u001b[43m,\u001b[49m\u001b[43m \u001b[49m\u001b[43mn_slices\u001b[49m\u001b[43m)\u001b[49m\u001b[43m)\u001b[49m\n\u001b[1;32m    154\u001b[0m MI_UKBB \u001b[38;5;241m=\u001b[39m np\u001b[38;5;241m.\u001b[39mhstack(MI_UKBB)\n\u001b[1;32m    155\u001b[0m _percentile \u001b[38;5;241m=\u001b[39m np\u001b[38;5;241m.\u001b[39mpercentile(MI_UKBB, percentile)\n",
      "File \u001b[0;32m/cvmfs/soft.computecanada.ca/easybuild/software/2020/avx512/Core/python/3.8.10/lib/python3.8/multiprocessing/pool.py:364\u001b[0m, in \u001b[0;36mPool.map\u001b[0;34m(self, func, iterable, chunksize)\u001b[0m\n\u001b[1;32m    359\u001b[0m \u001b[38;5;28;01mdef\u001b[39;00m \u001b[38;5;21mmap\u001b[39m(\u001b[38;5;28mself\u001b[39m, func, iterable, chunksize\u001b[38;5;241m=\u001b[39m\u001b[38;5;28;01mNone\u001b[39;00m):\n\u001b[1;32m    360\u001b[0m     \u001b[38;5;124;03m'''\u001b[39;00m\n\u001b[1;32m    361\u001b[0m \u001b[38;5;124;03m    Apply `func` to each element in `iterable`, collecting the results\u001b[39;00m\n\u001b[1;32m    362\u001b[0m \u001b[38;5;124;03m    in a list that is returned.\u001b[39;00m\n\u001b[1;32m    363\u001b[0m \u001b[38;5;124;03m    '''\u001b[39;00m\n\u001b[0;32m--> 364\u001b[0m     \u001b[38;5;28;01mreturn\u001b[39;00m \u001b[38;5;28;43mself\u001b[39;49m\u001b[38;5;241;43m.\u001b[39;49m\u001b[43m_map_async\u001b[49m\u001b[43m(\u001b[49m\u001b[43mfunc\u001b[49m\u001b[43m,\u001b[49m\u001b[43m \u001b[49m\u001b[43miterable\u001b[49m\u001b[43m,\u001b[49m\u001b[43m \u001b[49m\u001b[43mmapstar\u001b[49m\u001b[43m,\u001b[49m\u001b[43m \u001b[49m\u001b[43mchunksize\u001b[49m\u001b[43m)\u001b[49m\u001b[38;5;241;43m.\u001b[39;49m\u001b[43mget\u001b[49m\u001b[43m(\u001b[49m\u001b[43m)\u001b[49m\n",
      "File \u001b[0;32m/cvmfs/soft.computecanada.ca/easybuild/software/2020/avx512/Core/python/3.8.10/lib/python3.8/multiprocessing/pool.py:771\u001b[0m, in \u001b[0;36mApplyResult.get\u001b[0;34m(self, timeout)\u001b[0m\n\u001b[1;32m    769\u001b[0m     \u001b[38;5;28;01mreturn\u001b[39;00m \u001b[38;5;28mself\u001b[39m\u001b[38;5;241m.\u001b[39m_value\n\u001b[1;32m    770\u001b[0m \u001b[38;5;28;01melse\u001b[39;00m:\n\u001b[0;32m--> 771\u001b[0m     \u001b[38;5;28;01mraise\u001b[39;00m \u001b[38;5;28mself\u001b[39m\u001b[38;5;241m.\u001b[39m_value\n",
      "File \u001b[0;32m/cvmfs/soft.computecanada.ca/easybuild/software/2020/avx512/Core/python/3.8.10/lib/python3.8/multiprocessing/pool.py:537\u001b[0m, in \u001b[0;36mPool._handle_tasks\u001b[0;34m(taskqueue, put, outqueue, pool, cache)\u001b[0m\n\u001b[1;32m    535\u001b[0m     \u001b[38;5;28;01mbreak\u001b[39;00m\n\u001b[1;32m    536\u001b[0m \u001b[38;5;28;01mtry\u001b[39;00m:\n\u001b[0;32m--> 537\u001b[0m     \u001b[43mput\u001b[49m\u001b[43m(\u001b[49m\u001b[43mtask\u001b[49m\u001b[43m)\u001b[49m\n\u001b[1;32m    538\u001b[0m \u001b[38;5;28;01mexcept\u001b[39;00m \u001b[38;5;167;01mException\u001b[39;00m \u001b[38;5;28;01mas\u001b[39;00m e:\n\u001b[1;32m    539\u001b[0m     job, idx \u001b[38;5;241m=\u001b[39m task[:\u001b[38;5;241m2\u001b[39m]\n",
      "File \u001b[0;32m/cvmfs/soft.computecanada.ca/easybuild/software/2020/avx512/Core/python/3.8.10/lib/python3.8/multiprocessing/connection.py:206\u001b[0m, in \u001b[0;36m_ConnectionBase.send\u001b[0;34m(self, obj)\u001b[0m\n\u001b[1;32m    204\u001b[0m \u001b[38;5;28mself\u001b[39m\u001b[38;5;241m.\u001b[39m_check_closed()\n\u001b[1;32m    205\u001b[0m \u001b[38;5;28mself\u001b[39m\u001b[38;5;241m.\u001b[39m_check_writable()\n\u001b[0;32m--> 206\u001b[0m \u001b[38;5;28mself\u001b[39m\u001b[38;5;241m.\u001b[39m_send_bytes(\u001b[43m_ForkingPickler\u001b[49m\u001b[38;5;241;43m.\u001b[39;49m\u001b[43mdumps\u001b[49m\u001b[43m(\u001b[49m\u001b[43mobj\u001b[49m\u001b[43m)\u001b[49m)\n",
      "File \u001b[0;32m/cvmfs/soft.computecanada.ca/easybuild/software/2020/avx512/Core/python/3.8.10/lib/python3.8/multiprocessing/reduction.py:51\u001b[0m, in \u001b[0;36mForkingPickler.dumps\u001b[0;34m(cls, obj, protocol)\u001b[0m\n\u001b[1;32m     48\u001b[0m \u001b[38;5;129m@classmethod\u001b[39m\n\u001b[1;32m     49\u001b[0m \u001b[38;5;28;01mdef\u001b[39;00m \u001b[38;5;21mdumps\u001b[39m(\u001b[38;5;28mcls\u001b[39m, obj, protocol\u001b[38;5;241m=\u001b[39m\u001b[38;5;28;01mNone\u001b[39;00m):\n\u001b[1;32m     50\u001b[0m     buf \u001b[38;5;241m=\u001b[39m io\u001b[38;5;241m.\u001b[39mBytesIO()\n\u001b[0;32m---> 51\u001b[0m     \u001b[38;5;28;43mcls\u001b[39;49m\u001b[43m(\u001b[49m\u001b[43mbuf\u001b[49m\u001b[43m,\u001b[49m\u001b[43m \u001b[49m\u001b[43mprotocol\u001b[49m\u001b[43m)\u001b[49m\u001b[38;5;241;43m.\u001b[39;49m\u001b[43mdump\u001b[49m\u001b[43m(\u001b[49m\u001b[43mobj\u001b[49m\u001b[43m)\u001b[49m\n\u001b[1;32m     52\u001b[0m     \u001b[38;5;28;01mreturn\u001b[39;00m buf\u001b[38;5;241m.\u001b[39mgetbuffer()\n",
      "\u001b[0;31mAttributeError\u001b[0m: Can't pickle local object 'continuous_filter_parallel.<locals>._continuous_filter_slice'"
     ]
    }
   ],
   "source": [
    "print(continuous_filter_parallel(bed_file=bed_file, bim_file=bim_file, fam_file=fam_file, outcome=outcome, percentile=10, a_min=100., a_max=250., N=500, chunck_size=5000))\n"
   ]
  },
  {
   "cell_type": "code",
   "execution_count": null,
   "id": "b54d51a3",
   "metadata": {},
   "outputs": [],
   "source": []
  }
 ],
 "metadata": {
  "kernelspec": {
   "display_name": "Python 3 (ipykernel)",
   "language": "python",
   "name": "python3"
  },
  "language_info": {
   "codemirror_mode": {
    "name": "ipython",
    "version": 3
   },
   "file_extension": ".py",
   "mimetype": "text/x-python",
   "name": "python",
   "nbconvert_exporter": "python",
   "pygments_lexer": "ipython3",
   "version": "3.8.10"
  },
  "latex_envs": {
   "LaTeX_envs_menu_present": true,
   "autoclose": false,
   "autocomplete": true,
   "bibliofile": "biblio.bib",
   "cite_by": "apalike",
   "current_citInitial": 1,
   "eqLabelWithNumbers": true,
   "eqNumInitial": 1,
   "hotkeys": {
    "equation": "Ctrl-E",
    "itemize": "Ctrl-I"
   },
   "labels_anchors": false,
   "latex_user_defs": false,
   "report_style_numbering": false,
   "user_envs_cfg": false
  },
  "nbTranslate": {
   "displayLangs": [
    "*"
   ],
   "hotkey": "alt-t",
   "langInMainMenu": true,
   "sourceLang": "en",
   "targetLang": "fr",
   "useGoogleTranslate": true
  },
  "toc": {
   "base_numbering": 1,
   "nav_menu": {},
   "number_sections": true,
   "sideBar": true,
   "skip_h1_title": false,
   "title_cell": "Table of Contents",
   "title_sidebar": "Contents",
   "toc_cell": false,
   "toc_position": {},
   "toc_section_display": true,
   "toc_window_display": false
  },
  "varInspector": {
   "cols": {
    "lenName": 16,
    "lenType": 16,
    "lenVar": 40
   },
   "kernels_config": {
    "python": {
     "delete_cmd_postfix": "",
     "delete_cmd_prefix": "del ",
     "library": "var_list.py",
     "varRefreshCmd": "print(var_dic_list())"
    },
    "r": {
     "delete_cmd_postfix": ") ",
     "delete_cmd_prefix": "rm(",
     "library": "var_list.r",
     "varRefreshCmd": "cat(var_dic_list()) "
    }
   },
   "types_to_exclude": [
    "module",
    "function",
    "builtin_function_or_method",
    "instance",
    "_Feature"
   ],
   "window_display": false
  }
 },
 "nbformat": 4,
 "nbformat_minor": 5
}
