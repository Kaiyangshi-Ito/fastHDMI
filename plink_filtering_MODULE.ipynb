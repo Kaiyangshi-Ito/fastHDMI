{
 "cells": [
  {
   "cell_type": "code",
   "execution_count": 1,
   "id": "f1cc105c",
   "metadata": {
    "ExecuteTime": {
     "end_time": "2022-05-17T20:17:51.897870Z",
     "start_time": "2022-05-17T20:17:50.587872Z"
    }
   },
   "outputs": [
    {
     "ename": "ModuleNotFoundError",
     "evalue": "No module named 'pysnptools'",
     "output_type": "error",
     "traceback": [
      "\u001b[1;31m---------------------------------------------------------------------------\u001b[0m",
      "\u001b[1;31mModuleNotFoundError\u001b[0m                       Traceback (most recent call last)",
      "\u001b[1;32m~\\AppData\\Local\\Temp\\ipykernel_8872\\1947859088.py\u001b[0m in \u001b[0;36m<module>\u001b[1;34m\u001b[0m\n\u001b[0;32m      9\u001b[0m \u001b[1;32mimport\u001b[0m \u001b[0mpandas\u001b[0m \u001b[1;32mas\u001b[0m \u001b[0mpd\u001b[0m\u001b[1;33m\u001b[0m\u001b[1;33m\u001b[0m\u001b[0m\n\u001b[0;32m     10\u001b[0m \u001b[1;31m# import os\u001b[0m\u001b[1;33m\u001b[0m\u001b[1;33m\u001b[0m\u001b[1;33m\u001b[0m\u001b[0m\n\u001b[1;32m---> 11\u001b[1;33m \u001b[1;32mfrom\u001b[0m \u001b[0mpysnptools\u001b[0m\u001b[1;33m.\u001b[0m\u001b[0mdistreader\u001b[0m \u001b[1;32mimport\u001b[0m \u001b[0mBgen\u001b[0m\u001b[1;33m,\u001b[0m \u001b[0mDistMemMap\u001b[0m\u001b[1;33m\u001b[0m\u001b[1;33m\u001b[0m\u001b[0m\n\u001b[0m\u001b[0;32m     12\u001b[0m \u001b[1;32mfrom\u001b[0m \u001b[0mpathlib\u001b[0m \u001b[1;32mimport\u001b[0m \u001b[0mPath\u001b[0m\u001b[1;33m\u001b[0m\u001b[1;33m\u001b[0m\u001b[0m\n\u001b[0;32m     13\u001b[0m \u001b[1;32mimport\u001b[0m \u001b[0mnumpy\u001b[0m \u001b[1;32mas\u001b[0m \u001b[0mnp\u001b[0m\u001b[1;33m\u001b[0m\u001b[1;33m\u001b[0m\u001b[0m\n",
      "\u001b[1;31mModuleNotFoundError\u001b[0m: No module named 'pysnptools'"
     ]
    }
   ],
   "source": [
    "import numpy as np\n",
    "#from bgen_reader import open_bgen\n",
    "#from os.path import join\n",
    "#from pandas_plink import read_plink1_bin\n",
    "#from pandas_plink import get_data_folder\n",
    "import matplotlib.pyplot as plt\n",
    "#from bgen_reader import open_bgen\n",
    "#from bed_reader import open_bed, sample_file\n",
    "import pandas as pd\n",
    "# import os\n",
    "from pysnptools.distreader import Bgen, DistMemMap\n",
    "from pathlib import Path\n",
    "import numpy as np\n",
    "from bed_reader import open_bed\n",
    "from pysnptools.snpreader import SnpData, SnpMemMap\n",
    "from pysnptools.util import log_in_place\n",
    "import matplotlib.pyplot as plt\n",
    "from scipy.stats import gaussian_kde\n",
    "from KDEpy import FFTKDE\n",
    "from numba import jit\n",
    "from pybgen import PyBGEN\n"
   ]
  },
  {
   "cell_type": "code",
   "execution_count": 1,
   "id": "94d494a3",
   "metadata": {
    "ExecuteTime": {
     "end_time": "2022-05-19T15:15:00.118798Z",
     "start_time": "2022-05-19T15:14:59.534798Z"
    }
   },
   "outputs": [],
   "source": [
    "from numba import jit"
   ]
  },
  {
   "cell_type": "code",
   "execution_count": 9,
   "id": "8ce8b66d",
   "metadata": {
    "ExecuteTime": {
     "end_time": "2022-05-19T15:29:25.043327Z",
     "start_time": "2022-05-19T15:29:25.014298Z"
    }
   },
   "outputs": [],
   "source": [
    "def MI_continuous(a, b, a_min, a_max, N=500):\n",
    "    \"\"\"\n",
    "    calculate mutual information between continuous outcome and an SNP variable of 0,1,2\n",
    "    assume no missing data\n",
    "    \"\"\"\n",
    "    # first estimate the pmf\n",
    "    p0 = np.sum(b==0)/len(b)\n",
    "    p1 = np.sum(b==1)/len(b)\n",
    "    p2 = 1.-p0-p1\n",
    "    # estimate cond density\n",
    "    _b0 = (b==0)\n",
    "    if np.sum(_b0)>2: # here proceed to kde only if there are more than 5 data points\n",
    "        y_cond_p0 = FFTKDE(kernel=\"gaussian\", bw=\"silverman\").fit(data=a[_b0])\n",
    "#         y_cond_p0 = gaussian_kde(a[_b0])\n",
    "    else:\n",
    "        y_cond_p0 = np.zeros_like\n",
    "    _b1 = (b==1)\n",
    "    if np.sum(_b1)>2:\n",
    "        y_cond_p1 = FFTKDE(kernel=\"gaussian\", bw=\"silverman\").fit(data=a[_b1])\n",
    "#         y_cond_p1 = gaussian_kde(a[_b1]) # this thing uses Scott's rule instead of Silverman defaulted by FFTKDE and R density\n",
    "    else:\n",
    "        y_cond_p1 = np.zeros_like\n",
    "    _b2 = (b==2)\n",
    "    if np.sum(_b2)>2:\n",
    "        y_cond_p2 = FFTKDE(kernel=\"gaussian\", bw=\"silverman\").fit(data=a[_b2])\n",
    "#         y_cond_p2 = gaussian_kde(a[_b2])\n",
    "    else:\n",
    "        y_cond_p2 = np.zeros_like\n",
    "    joint = np.empty((N,3))\n",
    "    a_temp = np.linspace(a_min, a_max, num=N)\n",
    "    joint[:,0] = y_cond_p0(a_temp)*p0\n",
    "    joint[:,1] = y_cond_p1(a_temp)*p1\n",
    "    joint[:,2] = y_cond_p2(a_temp)*p2\n",
    "    joint[joint<1e-20] = 1e-20 # set a threshold to avoid numerical errors\n",
    "    forward_euler_step = a_temp[1]-a_temp[0]\n",
    "#     print(\"total measure:\", np.sum(joint)*forward_euler_step)\n",
    "    temp_log = np.log(joint)\n",
    "#     temp_log = np.nan_to_num(temp_log, nan = 0)\n",
    "    temp1 = np.log(np.sum(joint, 1))\n",
    "#     temp1 = np.nan_to_num(temp1, nan = 0)\n",
    "    temp_log = temp_log - temp1.reshape(-1,1)\n",
    "    temp2 = np.log(np.sum(joint, 0)*forward_euler_step)\n",
    "#     temp2 = np.nan_to_num(temp2, nan = 0)\n",
    "    temp_log = temp_log - temp2.reshape(1,-1)\n",
    "    # print(fhat_mat * temp_log)\n",
    "    temp_mat = joint * temp_log\n",
    "#     temp_mat = np.nan_to_num(temp_mat, nan=0.) # numerical fix\n",
    "    mi_temp = np.sum(temp_mat)*forward_euler_step\n",
    "    return mi_temp\n",
    "\n",
    "def MI_binary(a, b, a_min, a_max, N=500):\n",
    "    \"\"\"\n",
    "    calculate mutual information between binary outcome and an SNP variable of 0,1,2\n",
    "    assume no missing data\n",
    "    \"\"\"\n",
    "    # first estimate the pmf of SNP\n",
    "    p0 = np.sum(b==0)/len(b)\n",
    "    p1 = np.sum(b==1)/len(b)\n",
    "    p2 = 1.-p0-p1\n",
    "    # estimate pmf of the binary outcome\n",
    "    a_p0 = np.sum(a==0)/len(a)\n",
    "    a_p1 = np.sum(a==1)/len(a)\n",
    "    # estimate cond density\n",
    "    _b0 = (b==0)\n",
    "    if np.sum(_b0)>2: # here proceed to kde only if there are more than 5 data points\n",
    "        y_cond_p0 = lambda x: x*np.sum(a[_b0]==1)/len(a[_b0]) + (1-x)*np.sum(a[_b0]==0)/len(a[_b0])\n",
    "#         y_cond_p0 = gaussian_kde(a[_b0])\n",
    "    else:\n",
    "        y_cond_p0 = np.zeros_like\n",
    "    _b1 = (b==1)\n",
    "    if np.sum(_b1)>2:\n",
    "        y_cond_p1 = lambda x: x*np.sum(a[_b1]==1)/len(a[_b1]) + (1-x)*np.sum(a[_b1]==0)/len(a[_b1])\n",
    "#         y_cond_p1 = gaussian_kde(a[_b1]) # this thing uses Scott's rule instead of Silverman defaulted by FFTKDE and R density\n",
    "    else:\n",
    "        y_cond_p1 = np.zeros_like\n",
    "    _b2 = (b==2)\n",
    "    if np.sum(_b2)>2:\n",
    "        y_cond_p2 = lambda x: x*np.sum(a[_b2]==1)/len(a[_b2]) + (1-x)*np.sum(a[_b2]==0)/len(a[_b2])\n",
    "#         y_cond_p2 = gaussian_kde(a[_b2])\n",
    "    else:\n",
    "        y_cond_p2 = np.zeros_like\n",
    "    joint = np.empty((N,3))\n",
    "    a_temp = np.linspace(a_min, a_max, num=N)\n",
    "    joint[:,0] = y_cond_p0(a_temp)*p0\n",
    "    joint[:,1] = y_cond_p1(a_temp)*p1\n",
    "    joint[:,2] = y_cond_p2(a_temp)*p2\n",
    "    joint[joint<1e-20] = 1e-20 # set a threshold to avoid numerical errors\n",
    "    forward_euler_step = a_temp[1]-a_temp[0]\n",
    "#     print(\"total measure:\", np.sum(joint)*forward_euler_step)\n",
    "    temp_log = np.log(joint)\n",
    "#     temp_log = np.nan_to_num(temp_log, nan = 0)\n",
    "    temp1 = np.log(np.sum(joint, 1))\n",
    "#     temp1 = np.nan_to_num(temp1, nan = 0)\n",
    "    temp_log = temp_log - temp1.reshape(-1,1)\n",
    "    temp2 = np.log(np.sum(joint, 0)*forward_euler_step)\n",
    "#     temp2 = np.nan_to_num(temp2, nan = 0)\n",
    "    temp_log = temp_log - temp2.reshape(1,-1)\n",
    "    # print(fhat_mat * temp_log)\n",
    "    temp_mat = joint * temp_log\n",
    "#     temp_mat = np.nan_to_num(temp_mat, nan=0.) # numerical fix\n",
    "    mi_temp = np.sum(temp_mat)*forward_euler_step\n",
    "    return mi_temp\n",
    "\n",
    "\n",
    "def continuous_filter(bed_file, bim_file, fam_file, outcome, percentile, a_min=100., a_max=250.):\n",
    "    bed1 = open_bed(bed_file,fam_filepath=fam_file, bim_filepath=bim_file)\n",
    "    gene_iid = np.array(list(bed1.iid))\n",
    "    bed1_sid = np.array(list(bed1.sid))\n",
    "    MI_UKBB = np.zeros_like(bed1_sid)\n",
    "    for j in range(len(MI_UKBB)):\n",
    "        _SNP = bed1.read(np.s_[:,j],dtype=np.int8).flatten()\n",
    "        _SNP = _SNP[np.intersect1d(gene_iid, outcome_iid, assume_unique=True, return_indices=True)[1]] # get gene iid also in outcome iid\n",
    "        _outcome = outcome[_SNP != -127] # remove missing SNP in outcome\n",
    "        _SNP = _SNP[_SNP != -127] # remove missing SNP\n",
    "        MI_UKBB[j] = MI_continuous(_outcome=outcome, _SNP=_SNP)\n",
    "    _percentile = np.percentile(MI_UKBB, percentile)\n",
    "    return bed1_sid[MI_UKBB > _percentile]\n",
    "\n",
    "def binary_filter(bed_file, bim_file, fam_file, outcome, percentile, prop=.1, a_min=100., a_max=250.):\n",
    "    bed1 = open_bed(bed_file,fam_filepath=fam_file, bim_filepath=bim_file)\n",
    "    gene_iid = np.array(list(bed1.iid))\n",
    "    bed1_sid = np.array(list(bed1.sid))\n",
    "    MI_UKBB = np.zeros_like(bed1_sid)\n",
    "    for j in range(len(MI_UKBB)):\n",
    "        _SNP = bed1.read(np.s_[:,j],dtype=np.int8).flatten()\n",
    "        _SNP = _SNP[np.intersect1d(gene_iid, outcome_iid, assume_unique=True, return_indices=True)[1]] # get gene iid also in outcome iid\n",
    "        _outcome = outcome[_SNP != -127] # remove missing SNP in outcome\n",
    "        _SNP = _SNP[_SNP != -127] # remove missing SNP\n",
    "        MI_UKBB[j] = MI_binary(_outcome=outcome, _SNP=_SNP)\n",
    "    _percentile = np.percentile(MI_UKBB, percentile)\n",
    "    return bed1_sid[MI_UKBB > _percentile]\n",
    "\n"
   ]
  },
  {
   "cell_type": "code",
   "execution_count": 16,
   "id": "8a032b1b",
   "metadata": {
    "ExecuteTime": {
     "end_time": "2022-05-19T15:30:05.729471Z",
     "start_time": "2022-05-19T15:30:05.709823Z"
    }
   },
   "outputs": [
    {
     "data": {
      "text/plain": [
       "0.12761706945441434"
      ]
     },
     "execution_count": 16,
     "metadata": {},
     "output_type": "execute_result"
    }
   ],
   "source": [
    "a = np.random.binomial(2,.3, 200)\n",
    "b = np.random.binomial(2,.3, 200)\n",
    "MI_binary(a, b, a_min=0., a_max=2., N=500)\n"
   ]
  },
  {
   "cell_type": "code",
   "execution_count": null,
   "id": "56a634eb",
   "metadata": {},
   "outputs": [],
   "source": []
  }
 ],
 "metadata": {
  "kernelspec": {
   "display_name": "Python 3 (ipykernel)",
   "language": "python",
   "name": "python3"
  },
  "language_info": {
   "codemirror_mode": {
    "name": "ipython",
    "version": 3
   },
   "file_extension": ".py",
   "mimetype": "text/x-python",
   "name": "python",
   "nbconvert_exporter": "python",
   "pygments_lexer": "ipython3",
   "version": "3.7.13"
  },
  "latex_envs": {
   "LaTeX_envs_menu_present": true,
   "autoclose": false,
   "autocomplete": true,
   "bibliofile": "biblio.bib",
   "cite_by": "apalike",
   "current_citInitial": 1,
   "eqLabelWithNumbers": true,
   "eqNumInitial": 1,
   "hotkeys": {
    "equation": "Ctrl-E",
    "itemize": "Ctrl-I"
   },
   "labels_anchors": false,
   "latex_user_defs": false,
   "report_style_numbering": false,
   "user_envs_cfg": false
  },
  "toc": {
   "base_numbering": 1,
   "nav_menu": {},
   "number_sections": true,
   "sideBar": true,
   "skip_h1_title": false,
   "title_cell": "Table of Contents",
   "title_sidebar": "Contents",
   "toc_cell": false,
   "toc_position": {},
   "toc_section_display": true,
   "toc_window_display": false
  },
  "varInspector": {
   "cols": {
    "lenName": 16,
    "lenType": 16,
    "lenVar": 40
   },
   "kernels_config": {
    "python": {
     "delete_cmd_postfix": "",
     "delete_cmd_prefix": "del ",
     "library": "var_list.py",
     "varRefreshCmd": "print(var_dic_list())"
    },
    "r": {
     "delete_cmd_postfix": ") ",
     "delete_cmd_prefix": "rm(",
     "library": "var_list.r",
     "varRefreshCmd": "cat(var_dic_list()) "
    }
   },
   "types_to_exclude": [
    "module",
    "function",
    "builtin_function_or_method",
    "instance",
    "_Feature"
   ],
   "window_display": false
  }
 },
 "nbformat": 4,
 "nbformat_minor": 5
}
